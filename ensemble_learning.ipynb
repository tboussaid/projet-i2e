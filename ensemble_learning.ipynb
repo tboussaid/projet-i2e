{
  "nbformat": 4,
  "nbformat_minor": 0,
  "metadata": {
    "colab": {
      "name": "ensemble_learning.ipynb",
      "provenance": [],
      "collapsed_sections": []
    },
    "kernelspec": {
      "name": "python3",
      "display_name": "Python 3"
    },
    "language_info": {
      "name": "python"
    },
    "accelerator": "GPU"
  },
  "cells": [
    {
      "cell_type": "markdown",
      "metadata": {
        "id": "M-lp4EKJXzEc"
      },
      "source": [
        "# Loading the dataset and importing libraries"
      ]
    },
    {
      "cell_type": "code",
      "metadata": {
        "colab": {
          "base_uri": "https://localhost:8080/"
        },
        "id": "pJXdl5KZWo26",
        "outputId": "f1cae94d-330a-41a3-f3f5-fe4311c806f0"
      },
      "source": [
        "!pip install h5py\n",
        "!pip install tensorflow"
      ],
      "execution_count": 1,
      "outputs": [
        {
          "output_type": "stream",
          "name": "stdout",
          "text": [
            "Requirement already satisfied: h5py in /usr/local/lib/python3.7/dist-packages (3.1.0)\n",
            "Requirement already satisfied: numpy>=1.14.5 in /usr/local/lib/python3.7/dist-packages (from h5py) (1.19.5)\n",
            "Requirement already satisfied: cached-property in /usr/local/lib/python3.7/dist-packages (from h5py) (1.5.2)\n",
            "Requirement already satisfied: tensorflow in /usr/local/lib/python3.7/dist-packages (2.7.0)\n",
            "Requirement already satisfied: tensorboard~=2.6 in /usr/local/lib/python3.7/dist-packages (from tensorflow) (2.7.0)\n",
            "Requirement already satisfied: libclang>=9.0.1 in /usr/local/lib/python3.7/dist-packages (from tensorflow) (12.0.0)\n",
            "Requirement already satisfied: termcolor>=1.1.0 in /usr/local/lib/python3.7/dist-packages (from tensorflow) (1.1.0)\n",
            "Requirement already satisfied: grpcio<2.0,>=1.24.3 in /usr/local/lib/python3.7/dist-packages (from tensorflow) (1.42.0)\n",
            "Requirement already satisfied: opt-einsum>=2.3.2 in /usr/local/lib/python3.7/dist-packages (from tensorflow) (3.3.0)\n",
            "Requirement already satisfied: keras-preprocessing>=1.1.1 in /usr/local/lib/python3.7/dist-packages (from tensorflow) (1.1.2)\n",
            "Requirement already satisfied: google-pasta>=0.1.1 in /usr/local/lib/python3.7/dist-packages (from tensorflow) (0.2.0)\n",
            "Requirement already satisfied: tensorflow-io-gcs-filesystem>=0.21.0 in /usr/local/lib/python3.7/dist-packages (from tensorflow) (0.22.0)\n",
            "Requirement already satisfied: numpy>=1.14.5 in /usr/local/lib/python3.7/dist-packages (from tensorflow) (1.19.5)\n",
            "Requirement already satisfied: gast<0.5.0,>=0.2.1 in /usr/local/lib/python3.7/dist-packages (from tensorflow) (0.4.0)\n",
            "Requirement already satisfied: tensorflow-estimator<2.8,~=2.7.0rc0 in /usr/local/lib/python3.7/dist-packages (from tensorflow) (2.7.0)\n",
            "Requirement already satisfied: astunparse>=1.6.0 in /usr/local/lib/python3.7/dist-packages (from tensorflow) (1.6.3)\n",
            "Requirement already satisfied: wheel<1.0,>=0.32.0 in /usr/local/lib/python3.7/dist-packages (from tensorflow) (0.37.0)\n",
            "Requirement already satisfied: six>=1.12.0 in /usr/local/lib/python3.7/dist-packages (from tensorflow) (1.15.0)\n",
            "Requirement already satisfied: wrapt>=1.11.0 in /usr/local/lib/python3.7/dist-packages (from tensorflow) (1.13.3)\n",
            "Requirement already satisfied: flatbuffers<3.0,>=1.12 in /usr/local/lib/python3.7/dist-packages (from tensorflow) (2.0)\n",
            "Requirement already satisfied: h5py>=2.9.0 in /usr/local/lib/python3.7/dist-packages (from tensorflow) (3.1.0)\n",
            "Requirement already satisfied: keras<2.8,>=2.7.0rc0 in /usr/local/lib/python3.7/dist-packages (from tensorflow) (2.7.0)\n",
            "Requirement already satisfied: protobuf>=3.9.2 in /usr/local/lib/python3.7/dist-packages (from tensorflow) (3.17.3)\n",
            "Requirement already satisfied: absl-py>=0.4.0 in /usr/local/lib/python3.7/dist-packages (from tensorflow) (0.12.0)\n",
            "Requirement already satisfied: typing-extensions>=3.6.6 in /usr/local/lib/python3.7/dist-packages (from tensorflow) (3.10.0.2)\n",
            "Requirement already satisfied: cached-property in /usr/local/lib/python3.7/dist-packages (from h5py>=2.9.0->tensorflow) (1.5.2)\n",
            "Requirement already satisfied: google-auth-oauthlib<0.5,>=0.4.1 in /usr/local/lib/python3.7/dist-packages (from tensorboard~=2.6->tensorflow) (0.4.6)\n",
            "Requirement already satisfied: werkzeug>=0.11.15 in /usr/local/lib/python3.7/dist-packages (from tensorboard~=2.6->tensorflow) (1.0.1)\n",
            "Requirement already satisfied: requests<3,>=2.21.0 in /usr/local/lib/python3.7/dist-packages (from tensorboard~=2.6->tensorflow) (2.23.0)\n",
            "Requirement already satisfied: tensorboard-data-server<0.7.0,>=0.6.0 in /usr/local/lib/python3.7/dist-packages (from tensorboard~=2.6->tensorflow) (0.6.1)\n",
            "Requirement already satisfied: markdown>=2.6.8 in /usr/local/lib/python3.7/dist-packages (from tensorboard~=2.6->tensorflow) (3.3.6)\n",
            "Requirement already satisfied: tensorboard-plugin-wit>=1.6.0 in /usr/local/lib/python3.7/dist-packages (from tensorboard~=2.6->tensorflow) (1.8.0)\n",
            "Requirement already satisfied: setuptools>=41.0.0 in /usr/local/lib/python3.7/dist-packages (from tensorboard~=2.6->tensorflow) (57.4.0)\n",
            "Requirement already satisfied: google-auth<3,>=1.6.3 in /usr/local/lib/python3.7/dist-packages (from tensorboard~=2.6->tensorflow) (1.35.0)\n",
            "Requirement already satisfied: cachetools<5.0,>=2.0.0 in /usr/local/lib/python3.7/dist-packages (from google-auth<3,>=1.6.3->tensorboard~=2.6->tensorflow) (4.2.4)\n",
            "Requirement already satisfied: pyasn1-modules>=0.2.1 in /usr/local/lib/python3.7/dist-packages (from google-auth<3,>=1.6.3->tensorboard~=2.6->tensorflow) (0.2.8)\n",
            "Requirement already satisfied: rsa<5,>=3.1.4 in /usr/local/lib/python3.7/dist-packages (from google-auth<3,>=1.6.3->tensorboard~=2.6->tensorflow) (4.7.2)\n",
            "Requirement already satisfied: requests-oauthlib>=0.7.0 in /usr/local/lib/python3.7/dist-packages (from google-auth-oauthlib<0.5,>=0.4.1->tensorboard~=2.6->tensorflow) (1.3.0)\n",
            "Requirement already satisfied: importlib-metadata>=4.4 in /usr/local/lib/python3.7/dist-packages (from markdown>=2.6.8->tensorboard~=2.6->tensorflow) (4.8.2)\n",
            "Requirement already satisfied: zipp>=0.5 in /usr/local/lib/python3.7/dist-packages (from importlib-metadata>=4.4->markdown>=2.6.8->tensorboard~=2.6->tensorflow) (3.6.0)\n",
            "Requirement already satisfied: pyasn1<0.5.0,>=0.4.6 in /usr/local/lib/python3.7/dist-packages (from pyasn1-modules>=0.2.1->google-auth<3,>=1.6.3->tensorboard~=2.6->tensorflow) (0.4.8)\n",
            "Requirement already satisfied: certifi>=2017.4.17 in /usr/local/lib/python3.7/dist-packages (from requests<3,>=2.21.0->tensorboard~=2.6->tensorflow) (2021.10.8)\n",
            "Requirement already satisfied: idna<3,>=2.5 in /usr/local/lib/python3.7/dist-packages (from requests<3,>=2.21.0->tensorboard~=2.6->tensorflow) (2.10)\n",
            "Requirement already satisfied: chardet<4,>=3.0.2 in /usr/local/lib/python3.7/dist-packages (from requests<3,>=2.21.0->tensorboard~=2.6->tensorflow) (3.0.4)\n",
            "Requirement already satisfied: urllib3!=1.25.0,!=1.25.1,<1.26,>=1.21.1 in /usr/local/lib/python3.7/dist-packages (from requests<3,>=2.21.0->tensorboard~=2.6->tensorflow) (1.24.3)\n",
            "Requirement already satisfied: oauthlib>=3.0.0 in /usr/local/lib/python3.7/dist-packages (from requests-oauthlib>=0.7.0->google-auth-oauthlib<0.5,>=0.4.1->tensorboard~=2.6->tensorflow) (3.1.1)\n"
          ]
        }
      ]
    },
    {
      "cell_type": "code",
      "metadata": {
        "id": "oN7NN0-3YEJE"
      },
      "source": [
        "# Import useful libraries\n",
        "import pandas as pd\n",
        "import json\n",
        "import numpy as np\n",
        "from scipy.stats.stats import mode\n",
        "import seaborn as sns\n",
        "from PIL import Image\n",
        "import plotly.express as px\n",
        "import matplotlib.pyplot as plt\n",
        "import plotly.express as px\n",
        "from sklearn.decomposition import PCA\n",
        "from sklearn.preprocessing import scale, normalize, StandardScaler\n",
        "\n",
        "# Classifier models\n",
        "from sklearn.model_selection import train_test_split, cross_val_score, cross_validate, cross_val_predict, GridSearchCV \n",
        "from sklearn.tree import DecisionTreeClassifier\n",
        "from sklearn.metrics import mean_absolute_error\n",
        "from sklearn.metrics import ConfusionMatrixDisplay, confusion_matrix\n",
        "from sklearn.metrics import precision_score, recall_score, f1_score, accuracy_score\n",
        "from sklearn.metrics import precision_recall_curve\n",
        "from sklearn.metrics import classification_report\n",
        "\n",
        "\n",
        "# Statistic libraries\n",
        "from scipy.optimize import fmin, minimize_scalar\n",
        "from scipy import stats\n",
        "\n",
        "# Importing Keras library from Tensorflow\n",
        "import tensorflow as tf\n",
        "from tensorflow import keras\n",
        "from tensorflow.keras import layers\n",
        "from tensorflow.keras.layers.experimental import preprocessing\n",
        "from tensorflow.keras.callbacks import EarlyStopping\n",
        "from keras.layers.merge import Concatenate\n",
        "from keras.callbacks import ModelCheckpoint\n",
        "from tensorflow.keras.applications.resnet50 import ResNet50\n",
        "from tensorflow.keras.models import Model\n",
        "from tensorflow.python.keras.layers.core import Dense\n",
        "from tensorflow.python.keras.layers.pooling import GlobalAveragePooling2D\n",
        "from keras.models import load_model\n",
        "from os import makedirs"
      ],
      "execution_count": 2,
      "outputs": []
    },
    {
      "cell_type": "code",
      "metadata": {
        "id": "rIOIG7YZqHP4"
      },
      "source": [
        "from app import EvaluateAndReport, add_features, plot_features, to_RGB, get_distrib, DeepLearningExplore"
      ],
      "execution_count": 3,
      "outputs": []
    },
    {
      "cell_type": "code",
      "metadata": {
        "colab": {
          "base_uri": "https://localhost:8080/",
          "height": 310
        },
        "id": "TKUhdmVKqLp3",
        "outputId": "d87962f8-98e8-4a24-c602-1e3bf3549bb9"
      },
      "source": [
        "# Import Google Drive\n",
        "from google.colab import drive\n",
        "drive.mount('/content/drive')\n",
        "\n",
        "#returns JSON object as a dictionary\n",
        "f = open('/content/drive/MyDrive/Iceberg/train.json',) # The train.json file needs to be in an \"Iceberg\" directory\n",
        "\n",
        "# creating a dataframe\n",
        "df_raw = pd.DataFrame(json.load(f))\n",
        "\n",
        "# visualising the first rows\n",
        "df_raw.head()"
      ],
      "execution_count": 4,
      "outputs": [
        {
          "output_type": "stream",
          "name": "stdout",
          "text": [
            "Mounted at /content/drive\n"
          ]
        },
        {
          "output_type": "execute_result",
          "data": {
            "text/html": [
              "<div>\n",
              "<style scoped>\n",
              "    .dataframe tbody tr th:only-of-type {\n",
              "        vertical-align: middle;\n",
              "    }\n",
              "\n",
              "    .dataframe tbody tr th {\n",
              "        vertical-align: top;\n",
              "    }\n",
              "\n",
              "    .dataframe thead th {\n",
              "        text-align: right;\n",
              "    }\n",
              "</style>\n",
              "<table border=\"1\" class=\"dataframe\">\n",
              "  <thead>\n",
              "    <tr style=\"text-align: right;\">\n",
              "      <th></th>\n",
              "      <th>id</th>\n",
              "      <th>band_1</th>\n",
              "      <th>band_2</th>\n",
              "      <th>inc_angle</th>\n",
              "      <th>is_iceberg</th>\n",
              "    </tr>\n",
              "  </thead>\n",
              "  <tbody>\n",
              "    <tr>\n",
              "      <th>0</th>\n",
              "      <td>dfd5f913</td>\n",
              "      <td>[-27.878361, -27.15416, -28.668615, -29.537971...</td>\n",
              "      <td>[-27.154118, -29.537888, -31.0306, -32.190483,...</td>\n",
              "      <td>43.9239</td>\n",
              "      <td>0</td>\n",
              "    </tr>\n",
              "    <tr>\n",
              "      <th>1</th>\n",
              "      <td>e25388fd</td>\n",
              "      <td>[-12.242375, -14.920305, -14.920363, -12.66633...</td>\n",
              "      <td>[-31.506321, -27.984554, -26.645678, -23.76760...</td>\n",
              "      <td>38.1562</td>\n",
              "      <td>0</td>\n",
              "    </tr>\n",
              "    <tr>\n",
              "      <th>2</th>\n",
              "      <td>58b2aaa0</td>\n",
              "      <td>[-24.603676, -24.603714, -24.871029, -23.15277...</td>\n",
              "      <td>[-24.870956, -24.092632, -20.653963, -19.41104...</td>\n",
              "      <td>45.2859</td>\n",
              "      <td>1</td>\n",
              "    </tr>\n",
              "    <tr>\n",
              "      <th>3</th>\n",
              "      <td>4cfc3a18</td>\n",
              "      <td>[-22.454607, -23.082819, -23.998013, -23.99805...</td>\n",
              "      <td>[-27.889421, -27.519794, -27.165262, -29.10350...</td>\n",
              "      <td>43.8306</td>\n",
              "      <td>0</td>\n",
              "    </tr>\n",
              "    <tr>\n",
              "      <th>4</th>\n",
              "      <td>271f93f4</td>\n",
              "      <td>[-26.006956, -23.164886, -23.164886, -26.89116...</td>\n",
              "      <td>[-27.206915, -30.259186, -30.259186, -23.16495...</td>\n",
              "      <td>35.6256</td>\n",
              "      <td>0</td>\n",
              "    </tr>\n",
              "  </tbody>\n",
              "</table>\n",
              "</div>"
            ],
            "text/plain": [
              "         id  ... is_iceberg\n",
              "0  dfd5f913  ...          0\n",
              "1  e25388fd  ...          0\n",
              "2  58b2aaa0  ...          1\n",
              "3  4cfc3a18  ...          0\n",
              "4  271f93f4  ...          0\n",
              "\n",
              "[5 rows x 5 columns]"
            ]
          },
          "metadata": {},
          "execution_count": 4
        }
      ]
    },
    {
      "cell_type": "code",
      "metadata": {
        "colab": {
          "base_uri": "https://localhost:8080/"
        },
        "id": "P12zW_pGqczo",
        "outputId": "09133593-5b42-4e40-8f21-cef7592994b4"
      },
      "source": [
        "# Visualising info\n",
        "print(df_raw.info())"
      ],
      "execution_count": 5,
      "outputs": [
        {
          "output_type": "stream",
          "name": "stdout",
          "text": [
            "<class 'pandas.core.frame.DataFrame'>\n",
            "RangeIndex: 1604 entries, 0 to 1603\n",
            "Data columns (total 5 columns):\n",
            " #   Column      Non-Null Count  Dtype \n",
            "---  ------      --------------  ----- \n",
            " 0   id          1604 non-null   object\n",
            " 1   band_1      1604 non-null   object\n",
            " 2   band_2      1604 non-null   object\n",
            " 3   inc_angle   1604 non-null   object\n",
            " 4   is_iceberg  1604 non-null   int64 \n",
            "dtypes: int64(1), object(4)\n",
            "memory usage: 62.8+ KB\n",
            "None\n"
          ]
        }
      ]
    },
    {
      "cell_type": "markdown",
      "metadata": {
        "id": "GncIDvmWqfTs"
      },
      "source": [
        "# Data treatment"
      ]
    },
    {
      "cell_type": "code",
      "metadata": {
        "colab": {
          "base_uri": "https://localhost:8080/"
        },
        "id": "5gt1CCIpqjz0",
        "outputId": "a479ca0e-01ac-47a9-dd48-e2069f1b4e84"
      },
      "source": [
        "# Train/test split for the whole project as we don't have a test dataset\n",
        "df = df_raw.sample(frac = 0.8, random_state = 42)\n",
        "df_test = df_raw.drop(df.index)\n",
        "# Changing inc_angle from object to float64\n",
        "df.replace('na', np.NaN, inplace = True) # Replacing the 'na' text in inc_angle by NaN\n",
        "df['inc_angle'].astype('float', copy = False) # Casting inc_angle to float works with the NaN\n",
        "df[df.inc_angle.isna()] # 133 NaN\n",
        "print(df.info()) # inc_angle is now float64"
      ],
      "execution_count": 6,
      "outputs": [
        {
          "output_type": "stream",
          "name": "stdout",
          "text": [
            "<class 'pandas.core.frame.DataFrame'>\n",
            "Int64Index: 1283 entries, 530 to 546\n",
            "Data columns (total 5 columns):\n",
            " #   Column      Non-Null Count  Dtype  \n",
            "---  ------      --------------  -----  \n",
            " 0   id          1283 non-null   object \n",
            " 1   band_1      1283 non-null   object \n",
            " 2   band_2      1283 non-null   object \n",
            " 3   inc_angle   1175 non-null   float64\n",
            " 4   is_iceberg  1283 non-null   int64  \n",
            "dtypes: float64(1), int64(1), object(3)\n",
            "memory usage: 60.1+ KB\n",
            "None\n"
          ]
        }
      ]
    },
    {
      "cell_type": "code",
      "metadata": {
        "id": "yJowH3T2q_Tn"
      },
      "source": [
        "naive_base = pd.DataFrame(df.band_1.to_list(), index=df.index, columns=[f\"band_1_{i}\" for i in range(75*75)]).join(pd.DataFrame(df.band_2.to_list(), index=df.index, columns=[f\"band_2_{i}\" for i in range(75*75)]))"
      ],
      "execution_count": 7,
      "outputs": []
    },
    {
      "cell_type": "code",
      "metadata": {
        "colab": {
          "base_uri": "https://localhost:8080/",
          "height": 516
        },
        "id": "hA1ArY-LrHwD",
        "outputId": "b1bfead0-897d-4e6a-bac0-33b4d6d26d3b"
      },
      "source": [
        "# splitting the bands into single elements\n",
        "df = df.join(naive_base)\n",
        "df.head()"
      ],
      "execution_count": 8,
      "outputs": [
        {
          "output_type": "execute_result",
          "data": {
            "text/html": [
              "<div>\n",
              "<style scoped>\n",
              "    .dataframe tbody tr th:only-of-type {\n",
              "        vertical-align: middle;\n",
              "    }\n",
              "\n",
              "    .dataframe tbody tr th {\n",
              "        vertical-align: top;\n",
              "    }\n",
              "\n",
              "    .dataframe thead th {\n",
              "        text-align: right;\n",
              "    }\n",
              "</style>\n",
              "<table border=\"1\" class=\"dataframe\">\n",
              "  <thead>\n",
              "    <tr style=\"text-align: right;\">\n",
              "      <th></th>\n",
              "      <th>id</th>\n",
              "      <th>band_1</th>\n",
              "      <th>band_2</th>\n",
              "      <th>inc_angle</th>\n",
              "      <th>is_iceberg</th>\n",
              "      <th>band_1_0</th>\n",
              "      <th>band_1_1</th>\n",
              "      <th>band_1_2</th>\n",
              "      <th>band_1_3</th>\n",
              "      <th>band_1_4</th>\n",
              "      <th>band_1_5</th>\n",
              "      <th>band_1_6</th>\n",
              "      <th>band_1_7</th>\n",
              "      <th>band_1_8</th>\n",
              "      <th>band_1_9</th>\n",
              "      <th>band_1_10</th>\n",
              "      <th>band_1_11</th>\n",
              "      <th>band_1_12</th>\n",
              "      <th>band_1_13</th>\n",
              "      <th>band_1_14</th>\n",
              "      <th>band_1_15</th>\n",
              "      <th>band_1_16</th>\n",
              "      <th>band_1_17</th>\n",
              "      <th>band_1_18</th>\n",
              "      <th>band_1_19</th>\n",
              "      <th>band_1_20</th>\n",
              "      <th>band_1_21</th>\n",
              "      <th>band_1_22</th>\n",
              "      <th>band_1_23</th>\n",
              "      <th>band_1_24</th>\n",
              "      <th>band_1_25</th>\n",
              "      <th>band_1_26</th>\n",
              "      <th>band_1_27</th>\n",
              "      <th>band_1_28</th>\n",
              "      <th>band_1_29</th>\n",
              "      <th>band_1_30</th>\n",
              "      <th>band_1_31</th>\n",
              "      <th>band_1_32</th>\n",
              "      <th>band_1_33</th>\n",
              "      <th>band_1_34</th>\n",
              "      <th>...</th>\n",
              "      <th>band_2_5585</th>\n",
              "      <th>band_2_5586</th>\n",
              "      <th>band_2_5587</th>\n",
              "      <th>band_2_5588</th>\n",
              "      <th>band_2_5589</th>\n",
              "      <th>band_2_5590</th>\n",
              "      <th>band_2_5591</th>\n",
              "      <th>band_2_5592</th>\n",
              "      <th>band_2_5593</th>\n",
              "      <th>band_2_5594</th>\n",
              "      <th>band_2_5595</th>\n",
              "      <th>band_2_5596</th>\n",
              "      <th>band_2_5597</th>\n",
              "      <th>band_2_5598</th>\n",
              "      <th>band_2_5599</th>\n",
              "      <th>band_2_5600</th>\n",
              "      <th>band_2_5601</th>\n",
              "      <th>band_2_5602</th>\n",
              "      <th>band_2_5603</th>\n",
              "      <th>band_2_5604</th>\n",
              "      <th>band_2_5605</th>\n",
              "      <th>band_2_5606</th>\n",
              "      <th>band_2_5607</th>\n",
              "      <th>band_2_5608</th>\n",
              "      <th>band_2_5609</th>\n",
              "      <th>band_2_5610</th>\n",
              "      <th>band_2_5611</th>\n",
              "      <th>band_2_5612</th>\n",
              "      <th>band_2_5613</th>\n",
              "      <th>band_2_5614</th>\n",
              "      <th>band_2_5615</th>\n",
              "      <th>band_2_5616</th>\n",
              "      <th>band_2_5617</th>\n",
              "      <th>band_2_5618</th>\n",
              "      <th>band_2_5619</th>\n",
              "      <th>band_2_5620</th>\n",
              "      <th>band_2_5621</th>\n",
              "      <th>band_2_5622</th>\n",
              "      <th>band_2_5623</th>\n",
              "      <th>band_2_5624</th>\n",
              "    </tr>\n",
              "  </thead>\n",
              "  <tbody>\n",
              "    <tr>\n",
              "      <th>530</th>\n",
              "      <td>f06ecb96</td>\n",
              "      <td>[-22.622971, -19.042347, -18.257372, -18.69734...</td>\n",
              "      <td>[-23.36264, -22.62306, -23.962086, -24.38596, ...</td>\n",
              "      <td>30.4878</td>\n",
              "      <td>1</td>\n",
              "      <td>-22.622971</td>\n",
              "      <td>-19.042347</td>\n",
              "      <td>-18.257372</td>\n",
              "      <td>-18.697346</td>\n",
              "      <td>-20.440437</td>\n",
              "      <td>-20.440529</td>\n",
              "      <td>-16.872957</td>\n",
              "      <td>-18.697704</td>\n",
              "      <td>-17.637222</td>\n",
              "      <td>-14.771990</td>\n",
              "      <td>-15.064069</td>\n",
              "      <td>-18.366076</td>\n",
              "      <td>-18.698151</td>\n",
              "      <td>-19.281404</td>\n",
              "      <td>-18.366344</td>\n",
              "      <td>-17.058575</td>\n",
              "      <td>-19.281673</td>\n",
              "      <td>-21.310917</td>\n",
              "      <td>-18.698689</td>\n",
              "      <td>-17.738623</td>\n",
              "      <td>-20.305080</td>\n",
              "      <td>-19.526810</td>\n",
              "      <td>-18.047298</td>\n",
              "      <td>-16.874477</td>\n",
              "      <td>-17.153282</td>\n",
              "      <td>-17.840750</td>\n",
              "      <td>-17.441418</td>\n",
              "      <td>-16.604786</td>\n",
              "      <td>-17.153641</td>\n",
              "      <td>-17.739517</td>\n",
              "      <td>-17.441776</td>\n",
              "      <td>-16.694231</td>\n",
              "      <td>-15.368186</td>\n",
              "      <td>-14.774137</td>\n",
              "      <td>-16.694500</td>\n",
              "      <td>...</td>\n",
              "      <td>-24.389721</td>\n",
              "      <td>-23.366758</td>\n",
              "      <td>-21.313601</td>\n",
              "      <td>-22.627266</td>\n",
              "      <td>-24.390078</td>\n",
              "      <td>-21.945848</td>\n",
              "      <td>-24.390257</td>\n",
              "      <td>-22.280142</td>\n",
              "      <td>-21.314140</td>\n",
              "      <td>-20.868700</td>\n",
              "      <td>-22.111748</td>\n",
              "      <td>-24.836233</td>\n",
              "      <td>-24.610701</td>\n",
              "      <td>-23.762714</td>\n",
              "      <td>-21.784298</td>\n",
              "      <td>-21.314764</td>\n",
              "      <td>-22.112286</td>\n",
              "      <td>-24.176765</td>\n",
              "      <td>-23.368282</td>\n",
              "      <td>-23.967636</td>\n",
              "      <td>-26.605476</td>\n",
              "      <td>-23.967815</td>\n",
              "      <td>-26.062611</td>\n",
              "      <td>-25.551620</td>\n",
              "      <td>-22.453671</td>\n",
              "      <td>-23.763790</td>\n",
              "      <td>-25.803671</td>\n",
              "      <td>-24.392139</td>\n",
              "      <td>-23.968441</td>\n",
              "      <td>-22.282114</td>\n",
              "      <td>-21.948090</td>\n",
              "      <td>-22.282293</td>\n",
              "      <td>-24.178108</td>\n",
              "      <td>-24.392677</td>\n",
              "      <td>-22.992010</td>\n",
              "      <td>-22.282654</td>\n",
              "      <td>-22.282743</td>\n",
              "      <td>-23.764866</td>\n",
              "      <td>-25.308275</td>\n",
              "      <td>-23.969429</td>\n",
              "    </tr>\n",
              "    <tr>\n",
              "      <th>1140</th>\n",
              "      <td>974931df</td>\n",
              "      <td>[-27.235119, -26.907366, -24.170664, -24.17072...</td>\n",
              "      <td>[-32.01276, -29.514042, -26.907423, -29.090368...</td>\n",
              "      <td>38.4591</td>\n",
              "      <td>1</td>\n",
              "      <td>-27.235119</td>\n",
              "      <td>-26.907366</td>\n",
              "      <td>-24.170664</td>\n",
              "      <td>-24.170721</td>\n",
              "      <td>-24.653395</td>\n",
              "      <td>-23.279133</td>\n",
              "      <td>-29.959793</td>\n",
              "      <td>-27.930696</td>\n",
              "      <td>-27.930754</td>\n",
              "      <td>-22.865665</td>\n",
              "      <td>-20.727779</td>\n",
              "      <td>-19.972065</td>\n",
              "      <td>-25.432146</td>\n",
              "      <td>-28.686749</td>\n",
              "      <td>-25.432259</td>\n",
              "      <td>-24.409208</td>\n",
              "      <td>-22.666262</td>\n",
              "      <td>-26.908094</td>\n",
              "      <td>-24.171391</td>\n",
              "      <td>-21.556082</td>\n",
              "      <td>-20.887661</td>\n",
              "      <td>-20.887661</td>\n",
              "      <td>-23.279917</td>\n",
              "      <td>-25.993223</td>\n",
              "      <td>-25.993280</td>\n",
              "      <td>-23.070776</td>\n",
              "      <td>-23.070776</td>\n",
              "      <td>-23.494617</td>\n",
              "      <td>-25.708639</td>\n",
              "      <td>-27.577129</td>\n",
              "      <td>-30.927008</td>\n",
              "      <td>-30.430592</td>\n",
              "      <td>-30.430592</td>\n",
              "      <td>-25.433098</td>\n",
              "      <td>-26.908876</td>\n",
              "      <td>...</td>\n",
              "      <td>-27.934340</td>\n",
              "      <td>-31.456221</td>\n",
              "      <td>-29.094288</td>\n",
              "      <td>-29.094288</td>\n",
              "      <td>-29.094345</td>\n",
              "      <td>-29.518187</td>\n",
              "      <td>-27.580044</td>\n",
              "      <td>-25.711666</td>\n",
              "      <td>-26.911680</td>\n",
              "      <td>-29.094570</td>\n",
              "      <td>-28.304455</td>\n",
              "      <td>-29.963997</td>\n",
              "      <td>-28.304567</td>\n",
              "      <td>-29.518581</td>\n",
              "      <td>-29.518581</td>\n",
              "      <td>-29.094851</td>\n",
              "      <td>-29.094906</td>\n",
              "      <td>-32.017525</td>\n",
              "      <td>-31.457005</td>\n",
              "      <td>-30.434010</td>\n",
              "      <td>-32.017635</td>\n",
              "      <td>-34.711662</td>\n",
              "      <td>-27.935349</td>\n",
              "      <td>-25.997204</td>\n",
              "      <td>-27.240219</td>\n",
              "      <td>-29.095299</td>\n",
              "      <td>-28.691288</td>\n",
              "      <td>-25.436798</td>\n",
              "      <td>-24.910276</td>\n",
              "      <td>-28.305351</td>\n",
              "      <td>-28.691511</td>\n",
              "      <td>-29.964893</td>\n",
              "      <td>-29.095634</td>\n",
              "      <td>-27.581276</td>\n",
              "      <td>-27.935907</td>\n",
              "      <td>-29.965117</td>\n",
              "      <td>-29.095804</td>\n",
              "      <td>-28.305687</td>\n",
              "      <td>-29.095917</td>\n",
              "      <td>-30.931379</td>\n",
              "    </tr>\n",
              "    <tr>\n",
              "      <th>168</th>\n",
              "      <td>d6566373</td>\n",
              "      <td>[-28.63821, -26.238758, -29.042387, -29.042442...</td>\n",
              "      <td>[-25.944237, -25.659485, -28.252216, -31.40442...</td>\n",
              "      <td>39.5048</td>\n",
              "      <td>0</td>\n",
              "      <td>-28.638210</td>\n",
              "      <td>-26.238758</td>\n",
              "      <td>-29.042387</td>\n",
              "      <td>-29.042442</td>\n",
              "      <td>-25.944458</td>\n",
              "      <td>-25.944511</td>\n",
              "      <td>-27.528191</td>\n",
              "      <td>-27.187578</td>\n",
              "      <td>-29.042713</td>\n",
              "      <td>-29.466555</td>\n",
              "      <td>-29.912138</td>\n",
              "      <td>-31.965439</td>\n",
              "      <td>-36.402470</td>\n",
              "      <td>-36.402470</td>\n",
              "      <td>-33.208508</td>\n",
              "      <td>-30.381977</td>\n",
              "      <td>-28.252926</td>\n",
              "      <td>-27.188070</td>\n",
              "      <td>-25.945168</td>\n",
              "      <td>-26.860371</td>\n",
              "      <td>-27.883476</td>\n",
              "      <td>-29.467155</td>\n",
              "      <td>-29.467211</td>\n",
              "      <td>-27.188398</td>\n",
              "      <td>-27.188452</td>\n",
              "      <td>-28.253418</td>\n",
              "      <td>-28.639574</td>\n",
              "      <td>-28.639574</td>\n",
              "      <td>-30.879105</td>\n",
              "      <td>-28.639683</td>\n",
              "      <td>-28.253635</td>\n",
              "      <td>-28.253691</td>\n",
              "      <td>-25.945875</td>\n",
              "      <td>-25.945930</td>\n",
              "      <td>-27.529612</td>\n",
              "      <td>...</td>\n",
              "      <td>-28.255329</td>\n",
              "      <td>-30.384491</td>\n",
              "      <td>-26.862720</td>\n",
              "      <td>-26.546890</td>\n",
              "      <td>-26.862829</td>\n",
              "      <td>-27.190638</td>\n",
              "      <td>-28.641705</td>\n",
              "      <td>-29.915142</td>\n",
              "      <td>-28.641815</td>\n",
              "      <td>-27.886101</td>\n",
              "      <td>-28.255823</td>\n",
              "      <td>-27.531633</td>\n",
              "      <td>-27.531689</td>\n",
              "      <td>-27.191076</td>\n",
              "      <td>-25.663364</td>\n",
              "      <td>-24.609291</td>\n",
              "      <td>-27.191238</td>\n",
              "      <td>-29.915688</td>\n",
              "      <td>-29.915688</td>\n",
              "      <td>-29.046431</td>\n",
              "      <td>-29.046486</td>\n",
              "      <td>-29.915852</td>\n",
              "      <td>-31.969154</td>\n",
              "      <td>-33.212170</td>\n",
              "      <td>-31.408689</td>\n",
              "      <td>-27.886921</td>\n",
              "      <td>-29.046812</td>\n",
              "      <td>-28.256699</td>\n",
              "      <td>-26.243347</td>\n",
              "      <td>-26.548203</td>\n",
              "      <td>-27.191952</td>\n",
              "      <td>-25.121138</td>\n",
              "      <td>-26.243513</td>\n",
              "      <td>-28.643074</td>\n",
              "      <td>-29.916512</td>\n",
              "      <td>-31.409237</td>\n",
              "      <td>-32.569130</td>\n",
              "      <td>-27.887520</td>\n",
              "      <td>-24.127768</td>\n",
              "      <td>-25.664623</td>\n",
              "    </tr>\n",
              "    <tr>\n",
              "      <th>135</th>\n",
              "      <td>6706ea46</td>\n",
              "      <td>[-22.52327, -20.36145, -18.631905, -19.001574,...</td>\n",
              "      <td>[-26.236002, -27.819691, -25.408276, -25.14897...</td>\n",
              "      <td>36.1091</td>\n",
              "      <td>1</td>\n",
              "      <td>-22.523270</td>\n",
              "      <td>-20.361450</td>\n",
              "      <td>-18.631905</td>\n",
              "      <td>-19.001574</td>\n",
              "      <td>-19.257124</td>\n",
              "      <td>-18.753517</td>\n",
              "      <td>-21.974827</td>\n",
              "      <td>-20.661316</td>\n",
              "      <td>-20.215853</td>\n",
              "      <td>-19.388000</td>\n",
              "      <td>-21.131067</td>\n",
              "      <td>-21.458941</td>\n",
              "      <td>-19.931238</td>\n",
              "      <td>-21.459068</td>\n",
              "      <td>-21.627733</td>\n",
              "      <td>-22.154377</td>\n",
              "      <td>-20.661770</td>\n",
              "      <td>-20.661833</td>\n",
              "      <td>-22.154570</td>\n",
              "      <td>-20.661963</td>\n",
              "      <td>-20.661963</td>\n",
              "      <td>-20.362484</td>\n",
              "      <td>-20.511028</td>\n",
              "      <td>-18.877693</td>\n",
              "      <td>-17.294132</td>\n",
              "      <td>-20.511158</td>\n",
              "      <td>-19.129604</td>\n",
              "      <td>-17.718046</td>\n",
              "      <td>-20.216887</td>\n",
              "      <td>-21.628572</td>\n",
              "      <td>-20.972788</td>\n",
              "      <td>-20.972788</td>\n",
              "      <td>-20.073509</td>\n",
              "      <td>-19.793360</td>\n",
              "      <td>-21.132359</td>\n",
              "      <td>...</td>\n",
              "      <td>-29.338629</td>\n",
              "      <td>-26.839920</td>\n",
              "      <td>-24.657095</td>\n",
              "      <td>-25.153629</td>\n",
              "      <td>-25.153629</td>\n",
              "      <td>-26.240849</td>\n",
              "      <td>-25.956104</td>\n",
              "      <td>-29.339018</td>\n",
              "      <td>-31.174490</td>\n",
              "      <td>-31.174490</td>\n",
              "      <td>-27.824734</td>\n",
              "      <td>-27.824799</td>\n",
              "      <td>-30.208590</td>\n",
              "      <td>-29.763126</td>\n",
              "      <td>-28.179567</td>\n",
              "      <td>-28.179567</td>\n",
              "      <td>-28.935402</td>\n",
              "      <td>-28.549364</td>\n",
              "      <td>-25.680984</td>\n",
              "      <td>-25.413771</td>\n",
              "      <td>-25.413771</td>\n",
              "      <td>-22.719864</td>\n",
              "      <td>-23.114811</td>\n",
              "      <td>-25.681246</td>\n",
              "      <td>-24.658258</td>\n",
              "      <td>-24.658258</td>\n",
              "      <td>-26.241949</td>\n",
              "      <td>-26.536480</td>\n",
              "      <td>-27.157228</td>\n",
              "      <td>-26.841408</td>\n",
              "      <td>-27.485165</td>\n",
              "      <td>-25.957397</td>\n",
              "      <td>-24.189026</td>\n",
              "      <td>-25.155184</td>\n",
              "      <td>-25.681828</td>\n",
              "      <td>-28.550335</td>\n",
              "      <td>-28.550335</td>\n",
              "      <td>-33.506088</td>\n",
              "      <td>-32.862461</td>\n",
              "      <td>-30.679636</td>\n",
              "    </tr>\n",
              "    <tr>\n",
              "      <th>438</th>\n",
              "      <td>b792a605</td>\n",
              "      <td>[-19.505417, -21.23266, -28.363649, -29.637077...</td>\n",
              "      <td>[-28.36356, -32.289497, -32.289543, -28.767765...</td>\n",
              "      <td>42.4126</td>\n",
              "      <td>0</td>\n",
              "      <td>-19.505417</td>\n",
              "      <td>-21.232660</td>\n",
              "      <td>-28.363649</td>\n",
              "      <td>-29.637077</td>\n",
              "      <td>-26.269035</td>\n",
              "      <td>-26.584967</td>\n",
              "      <td>-23.390995</td>\n",
              "      <td>-20.405079</td>\n",
              "      <td>-18.187210</td>\n",
              "      <td>-18.435442</td>\n",
              "      <td>-19.088867</td>\n",
              "      <td>-18.954247</td>\n",
              "      <td>-20.248798</td>\n",
              "      <td>-19.649580</td>\n",
              "      <td>-16.727064</td>\n",
              "      <td>-18.562517</td>\n",
              "      <td>-23.848705</td>\n",
              "      <td>-22.343733</td>\n",
              "      <td>-22.343779</td>\n",
              "      <td>-21.770918</td>\n",
              "      <td>-22.148670</td>\n",
              "      <td>-21.233568</td>\n",
              "      <td>-20.565138</td>\n",
              "      <td>-20.405806</td>\n",
              "      <td>-19.650080</td>\n",
              "      <td>-17.828514</td>\n",
              "      <td>-16.523226</td>\n",
              "      <td>-18.822361</td>\n",
              "      <td>-23.172085</td>\n",
              "      <td>-18.691833</td>\n",
              "      <td>-20.249615</td>\n",
              "      <td>-22.957745</td>\n",
              "      <td>-22.957790</td>\n",
              "      <td>-21.771555</td>\n",
              "      <td>-23.617886</td>\n",
              "      <td>...</td>\n",
              "      <td>-27.255211</td>\n",
              "      <td>-28.769672</td>\n",
              "      <td>-26.586826</td>\n",
              "      <td>-24.843868</td>\n",
              "      <td>-27.255392</td>\n",
              "      <td>-34.386383</td>\n",
              "      <td>-32.935417</td>\n",
              "      <td>-28.769943</td>\n",
              "      <td>-29.639303</td>\n",
              "      <td>-27.979862</td>\n",
              "      <td>-26.271305</td>\n",
              "      <td>-27.979954</td>\n",
              "      <td>-30.605579</td>\n",
              "      <td>-28.366148</td>\n",
              "      <td>-28.366194</td>\n",
              "      <td>-30.605715</td>\n",
              "      <td>-29.639666</td>\n",
              "      <td>-31.132383</td>\n",
              "      <td>-30.109379</td>\n",
              "      <td>-27.610649</td>\n",
              "      <td>-26.915453</td>\n",
              "      <td>-31.132565</td>\n",
              "      <td>-31.132610</td>\n",
              "      <td>-29.194454</td>\n",
              "      <td>-30.606121</td>\n",
              "      <td>-33.631523</td>\n",
              "      <td>-26.587917</td>\n",
              "      <td>-27.611012</td>\n",
              "      <td>-28.366831</td>\n",
              "      <td>-27.256529</td>\n",
              "      <td>-26.588099</td>\n",
              "      <td>-25.672993</td>\n",
              "      <td>-27.256664</td>\n",
              "      <td>-32.936646</td>\n",
              "      <td>-28.771170</td>\n",
              "      <td>-24.089550</td>\n",
              "      <td>-25.967686</td>\n",
              "      <td>-28.771307</td>\n",
              "      <td>-31.133339</td>\n",
              "      <td>-32.293221</td>\n",
              "    </tr>\n",
              "  </tbody>\n",
              "</table>\n",
              "<p>5 rows × 11255 columns</p>\n",
              "</div>"
            ],
            "text/plain": [
              "            id  ... band_2_5624\n",
              "530   f06ecb96  ...  -23.969429\n",
              "1140  974931df  ...  -30.931379\n",
              "168   d6566373  ...  -25.664623\n",
              "135   6706ea46  ...  -30.679636\n",
              "438   b792a605  ...  -32.293221\n",
              "\n",
              "[5 rows x 11255 columns]"
            ]
          },
          "metadata": {},
          "execution_count": 8
        }
      ]
    },
    {
      "cell_type": "code",
      "metadata": {
        "id": "7DNi_XmorTVM"
      },
      "source": [
        "# adding statistics\n",
        "df = add_features(df,1)\n",
        "df = add_features(df,2)"
      ],
      "execution_count": 9,
      "outputs": []
    },
    {
      "cell_type": "markdown",
      "metadata": {
        "id": "Y3N45eJUr7RM"
      },
      "source": [
        "# Supervised learning models"
      ]
    },
    {
      "cell_type": "code",
      "metadata": {
        "id": "LPiFY8vQr-NQ"
      },
      "source": [
        "from sklearn.model_selection import train_test_split, cross_val_score\n",
        "from sklearn.tree import DecisionTreeClassifier\n",
        "from sklearn.metrics import mean_absolute_error\n",
        "\n",
        "# selecting the prediction target and the model features\n",
        "y = df[\"is_iceberg\"]\n",
        "X_stats = df.loc[:,['max_b1','min_b1','median_b1','mean_b1','argmax_b1','argmin_b1','max_b2','min_b2','median_b2','mean_b2','argmax_b2','argmin_b2']]\n",
        "\n",
        "# split data into training and validation data, for both features and target\n",
        "# The split is based on a random number generator. \n",
        "# Supplying a numeric value to the random_state argument guarantees we get the same \n",
        "# split every time we run this script.\n",
        "X_train, X_test, y_train, y_test = train_test_split(X_stats, y, random_state = 0)"
      ],
      "execution_count": 10,
      "outputs": []
    },
    {
      "cell_type": "markdown",
      "metadata": {
        "id": "eY5eoveusVTl"
      },
      "source": [
        "## Decision Tree Classifier"
      ]
    },
    {
      "cell_type": "code",
      "metadata": {
        "colab": {
          "base_uri": "https://localhost:8080/",
          "height": 539
        },
        "id": "B4GkUcHlsZJL",
        "outputId": "f3b3c7ea-cf94-48e9-c6c9-c3386b7ea2d8"
      },
      "source": [
        "df_stats = df.loc[:,['id','is_iceberg','inc_angle','is_iceberg','max_b1','min_b1','median_b1','mean_b1','argmax_b1','argmin_b1','max_b2','min_b2','median_b2','mean_b2','argmax_b2','argmin_b2']]\n",
        "er = EvaluateAndReport(df_stats, X_train, X_test, y_train, y_test)\n",
        "\n",
        "param_grid = [{\n",
        "    'min_samples_leaf': [2,3,4,5,6],\n",
        "    'max_features': [4,8,12]\n",
        "}]\n",
        "er.cv_cv = 5\n",
        "er.X_train = X_train\n",
        "er.y_train = y_train\n",
        "er.grid_cross_test_report(DecisionTreeClassifier(), param_grid)"
      ],
      "execution_count": 11,
      "outputs": [
        {
          "output_type": "stream",
          "name": "stdout",
          "text": [
            "--- Grid Search Report ---\n",
            "Best parameters for DecisionTreeClassifier() :\n",
            " {'max_features': 12, 'min_samples_leaf': 5} with f1 score 0.689\n",
            "--- Cross Validation Report ---\n",
            "Mean accuracy score 0.708 with std 0.038\n",
            "Mean f1 score 0.692 with std 0.039\n",
            "Mean precision score 0.688 with std 0.043\n",
            "Mean recall score 0.698 with std 0.043\n",
            "--- Test Sample Report ---\n",
            "Scores for the test sample :\n",
            " accuracy : 0.717\n",
            " f1 : 0.717\n",
            " precision : 0.701\n",
            " recall : 0.732\n",
            "Confusion matrix for the test sample :\n"
          ]
        },
        {
          "output_type": "display_data",
          "data": {
            "image/png": "[encoded data removed]",
            "text/plain": [
              "<Figure size 432x288 with 2 Axes>"
            ]
          },
          "metadata": {
            "needs_background": "light"
          }
        }
      ]
    },
    {
      "cell_type": "code",
      "metadata": {
        "id": "VeJ43_WHtW2k"
      },
      "source": [
        "DCT_stats = er.last_best"
      ],
      "execution_count": 12,
      "outputs": []
    },
    {
      "cell_type": "markdown",
      "metadata": {
        "id": "CSey7rchtkDb"
      },
      "source": [
        "## KNN"
      ]
    },
    {
      "cell_type": "code",
      "metadata": {
        "colab": {
          "base_uri": "https://localhost:8080/",
          "height": 543
        },
        "id": "2thlxJvGtn42",
        "outputId": "595334ac-de99-435f-ce52-b9802b0e61b3"
      },
      "source": [
        "from sklearn.neighbors import KNeighborsClassifier\n",
        "\n",
        "er_KNN = EvaluateAndReport(df_stats, X_train, X_test, y_train, y_test)\n",
        "param_grid_knn = [{\n",
        "    'n_neighbors': range(2,12,4)\n",
        "}]\n",
        "er_KNN.cv_cv = 8\n",
        "er_KNN.X_train = X_train\n",
        "er_KNN.y_train = y_train\n",
        "er_KNN.grid_cross_test_report(KNeighborsClassifier(), param_grid_knn)"
      ],
      "execution_count": 13,
      "outputs": [
        {
          "output_type": "stream",
          "name": "stdout",
          "text": [
            "--- Grid Search Report ---\n",
            "Best parameters for KNeighborsClassifier() :\n",
            " {'n_neighbors': 6} with f1 score 0.366\n",
            "--- Cross Validation Report ---\n",
            "Mean accuracy score 0.526 with std 0.016\n",
            "Mean f1 score 0.357 with std 0.024\n",
            "Mean precision score 0.496 with std 0.033\n",
            "Mean recall score 0.28 with std 0.026\n",
            "--- Test Sample Report ---\n",
            "Scores for the test sample :\n",
            " accuracy : 0.523\n",
            " f1 : 0.386\n",
            " precision : 0.522\n",
            " recall : 0.306\n",
            "Confusion matrix for the test sample :\n"
          ]
        },
        {
          "output_type": "display_data",
          "data": {
            "image/png": "[encoded data removed]",
            "text/plain": [
              "<Figure size 432x288 with 2 Axes>"
            ]
          },
          "metadata": {
            "needs_background": "light"
          }
        }
      ]
    },
    {
      "cell_type": "code",
      "metadata": {
        "id": "wPGDj4BSuSVi"
      },
      "source": [
        "KNN_stats = er_KNN.last_best"
      ],
      "execution_count": 14,
      "outputs": []
    },
    {
      "cell_type": "code",
      "metadata": {
        "id": "txzmyMEiuVyj"
      },
      "source": [
        "X_train_stats = X_train\n",
        "y_train_stats = y_train\n",
        "X_test_stats = X_test\n",
        "y_test_stats = y_test"
      ],
      "execution_count": 15,
      "outputs": []
    },
    {
      "cell_type": "markdown",
      "metadata": {
        "id": "_SARuJpaupoP"
      },
      "source": [
        "## Introducing a PCA"
      ]
    },
    {
      "cell_type": "code",
      "metadata": {
        "id": "iFXmpWR2uubw"
      },
      "source": [
        "from app import get_pca_df\n",
        "pca_5 = get_pca_df(df, naive_base, 5)\n",
        "pca_10 = get_pca_df(df, naive_base, 10)\n",
        "pca_20 = get_pca_df(df, naive_base, 20)\n",
        "pca_50 = get_pca_df(df, naive_base, 50)\n",
        "pca_100 = get_pca_df(df, naive_base, 100)\n",
        "pca_200 = get_pca_df(df, naive_base, 200)\n",
        "pca_500 = get_pca_df(df, naive_base, 500)"
      ],
      "execution_count": 16,
      "outputs": []
    },
    {
      "cell_type": "markdown",
      "metadata": {
        "id": "GNl6nXANvEZD"
      },
      "source": [
        "## Decision Tree Classifier - PCA"
      ]
    },
    {
      "cell_type": "code",
      "metadata": {
        "colab": {
          "base_uri": "https://localhost:8080/",
          "height": 1000
        },
        "id": "7FFqOpXvvICS",
        "outputId": "a945865d-f8af-4dd0-eadd-742157379986"
      },
      "source": [
        "param_grid = [{\n",
        "    'min_samples_leaf': [2,3,4,5,6],\n",
        "    'max_features': [4,8,12]\n",
        "}]\n",
        "\n",
        "train_scores = []\n",
        "for dtset in [pca_5, pca_10, pca_20, pca_50, pca_100, pca_200, pca_500] :\n",
        "  y = dtset[\"is_iceberg\"]\n",
        "  X_pca = dtset.drop('is_iceberg',axis=1)\n",
        "  X_train, X_test, y_train, y_test = train_test_split(X_pca, y, random_state = 0)\n",
        "  er_PCA = EvaluateAndReport(dtset, X_train, X_test, y_train, y_test)\n",
        "  er_PCA.cv_cv = 5 \n",
        "  er_PCA.grid_cross_test_report(DecisionTreeClassifier(), param_grid)\n",
        "  train_scores.append(er_PCA.best_scores_t)\n",
        "\n",
        "train_scores"
      ],
      "execution_count": 17,
      "outputs": [
        {
          "output_type": "stream",
          "name": "stdout",
          "text": [
            "--- Grid Search Report ---\n"
          ]
        },
        {
          "output_type": "stream",
          "name": "stderr",
          "text": [
            "/usr/local/lib/python3.7/dist-packages/sklearn/model_selection/_validation.py:372: FitFailedWarning:\n",
            "\n",
            "\n",
            "50 fits failed out of a total of 75.\n",
            "The score on these train-test partitions for these parameters will be set to nan.\n",
            "If these failures are not expected, you can try to debug them by setting error_score='raise'.\n",
            "\n",
            "Below are more details about the failures:\n",
            "--------------------------------------------------------------------------------\n",
            "50 fits failed with the following error:\n",
            "Traceback (most recent call last):\n",
            "  File \"/usr/local/lib/python3.7/dist-packages/sklearn/model_selection/_validation.py\", line 681, in _fit_and_score\n",
            "    estimator.fit(X_train, y_train, **fit_params)\n",
            "  File \"/usr/local/lib/python3.7/dist-packages/sklearn/tree/_classes.py\", line 942, in fit\n",
            "    X_idx_sorted=X_idx_sorted,\n",
            "  File \"/usr/local/lib/python3.7/dist-packages/sklearn/tree/_classes.py\", line 308, in fit\n",
            "    raise ValueError(\"max_features must be in (0, n_features]\")\n",
            "ValueError: max_features must be in (0, n_features]\n",
            "\n",
            "\n",
            "/usr/local/lib/python3.7/dist-packages/sklearn/model_selection/_search.py:972: UserWarning:\n",
            "\n",
            "One or more of the test scores are non-finite: [0.63205485 0.61941041 0.59930648 0.63486031 0.62592728        nan\n",
            "        nan        nan        nan        nan        nan        nan\n",
            "        nan        nan        nan]\n",
            "\n",
            "/usr/local/lib/python3.7/dist-packages/sklearn/model_selection/_search.py:972: UserWarning:\n",
            "\n",
            "One or more of the train scores are non-finite: [0.93834294 0.90810182 0.87924708 0.85615214 0.84414523        nan\n",
            "        nan        nan        nan        nan        nan        nan\n",
            "        nan        nan        nan]\n",
            "\n"
          ]
        },
        {
          "output_type": "stream",
          "name": "stdout",
          "text": [
            "Best parameters for DecisionTreeClassifier() :\n",
            " {'max_features': 4, 'min_samples_leaf': 5} with f1 score 0.635\n",
            "--- Cross Validation Report ---\n",
            "Mean accuracy score 0.673 with std 0.015\n",
            "Mean f1 score 0.635 with std 0.028\n",
            "Mean precision score 0.67 with std 0.03\n",
            "Mean recall score 0.609 with std 0.059\n",
            "--- Test Sample Report ---\n",
            "Scores for the test sample :\n",
            " accuracy : 0.676\n",
            " f1 : 0.69\n",
            " precision : 0.648\n",
            " recall : 0.739\n",
            "Confusion matrix for the test sample :\n",
            "--- Grid Search Report ---\n"
          ]
        },
        {
          "output_type": "stream",
          "name": "stderr",
          "text": [
            "/usr/local/lib/python3.7/dist-packages/sklearn/model_selection/_validation.py:372: FitFailedWarning:\n",
            "\n",
            "\n",
            "25 fits failed out of a total of 75.\n",
            "The score on these train-test partitions for these parameters will be set to nan.\n",
            "If these failures are not expected, you can try to debug them by setting error_score='raise'.\n",
            "\n",
            "Below are more details about the failures:\n",
            "--------------------------------------------------------------------------------\n",
            "25 fits failed with the following error:\n",
            "Traceback (most recent call last):\n",
            "  File \"/usr/local/lib/python3.7/dist-packages/sklearn/model_selection/_validation.py\", line 681, in _fit_and_score\n",
            "    estimator.fit(X_train, y_train, **fit_params)\n",
            "  File \"/usr/local/lib/python3.7/dist-packages/sklearn/tree/_classes.py\", line 942, in fit\n",
            "    X_idx_sorted=X_idx_sorted,\n",
            "  File \"/usr/local/lib/python3.7/dist-packages/sklearn/tree/_classes.py\", line 308, in fit\n",
            "    raise ValueError(\"max_features must be in (0, n_features]\")\n",
            "ValueError: max_features must be in (0, n_features]\n",
            "\n",
            "\n",
            "/usr/local/lib/python3.7/dist-packages/sklearn/model_selection/_search.py:972: UserWarning:\n",
            "\n",
            "One or more of the test scores are non-finite: [0.67323196 0.67992988 0.62851486 0.66476318 0.66441891 0.66321675\n",
            " 0.66654965 0.641898   0.68408405 0.66606705        nan        nan\n",
            "        nan        nan        nan]\n",
            "\n",
            "/usr/local/lib/python3.7/dist-packages/sklearn/model_selection/_search.py:972: UserWarning:\n",
            "\n",
            "One or more of the train scores are non-finite: [0.95084569 0.92189133 0.89097407 0.87800374 0.85701651 0.95610204\n",
            " 0.9349476  0.90945932 0.89144378 0.87693273        nan        nan\n",
            "        nan        nan        nan]\n",
            "\n"
          ]
        },
        {
          "output_type": "stream",
          "name": "stdout",
          "text": [
            "Best parameters for DecisionTreeClassifier() :\n",
            " {'max_features': 8, 'min_samples_leaf': 5} with f1 score 0.684\n",
            "--- Cross Validation Report ---\n",
            "Mean accuracy score 0.719 with std 0.021\n",
            "Mean f1 score 0.693 with std 0.02\n",
            "Mean precision score 0.717 with std 0.034\n",
            "Mean recall score 0.671 with std 0.024\n",
            "--- Test Sample Report ---\n",
            "Scores for the test sample :\n",
            " accuracy : 0.717\n",
            " f1 : 0.723\n",
            " precision : 0.692\n",
            " recall : 0.758\n",
            "Confusion matrix for the test sample :\n",
            "--- Grid Search Report ---\n",
            "Best parameters for DecisionTreeClassifier() :\n",
            " {'max_features': 12, 'min_samples_leaf': 5} with f1 score 0.689\n",
            "--- Cross Validation Report ---\n",
            "Mean accuracy score 0.707 with std 0.017\n",
            "Mean f1 score 0.676 with std 0.026\n",
            "Mean precision score 0.706 with std 0.026\n",
            "Mean recall score 0.651 with std 0.056\n",
            "--- Test Sample Report ---\n",
            "Scores for the test sample :\n",
            " accuracy : 0.726\n",
            " f1 : 0.707\n",
            " precision : 0.741\n",
            " recall : 0.675\n",
            "Confusion matrix for the test sample :\n",
            "--- Grid Search Report ---\n",
            "Best parameters for DecisionTreeClassifier() :\n",
            " {'max_features': 12, 'min_samples_leaf': 3} with f1 score 0.682\n",
            "--- Cross Validation Report ---\n",
            "Mean accuracy score 0.663 with std 0.015\n",
            "Mean f1 score 0.628 with std 0.026\n",
            "Mean precision score 0.655 with std 0.02\n",
            "Mean recall score 0.605 with std 0.048\n",
            "--- Test Sample Report ---\n",
            "Scores for the test sample :\n",
            " accuracy : 0.676\n",
            " f1 : 0.681\n",
            " precision : 0.657\n",
            " recall : 0.707\n",
            "Confusion matrix for the test sample :\n",
            "--- Grid Search Report ---\n",
            "Best parameters for DecisionTreeClassifier() :\n",
            " {'max_features': 8, 'min_samples_leaf': 2} with f1 score 0.632\n",
            "--- Cross Validation Report ---\n",
            "Mean accuracy score 0.63 with std 0.038\n",
            "Mean f1 score 0.6 with std 0.042\n",
            "Mean precision score 0.612 with std 0.045\n",
            "Mean recall score 0.589 with std 0.045\n",
            "--- Test Sample Report ---\n",
            "Scores for the test sample :\n",
            " accuracy : 0.614\n",
            " f1 : 0.56\n",
            " precision : 0.632\n",
            " recall : 0.503\n",
            "Confusion matrix for the test sample :\n",
            "--- Grid Search Report ---\n",
            "Best parameters for DecisionTreeClassifier() :\n",
            " {'max_features': 8, 'min_samples_leaf': 6} with f1 score 0.603\n",
            "--- Cross Validation Report ---\n",
            "Mean accuracy score 0.581 with std 0.041\n",
            "Mean f1 score 0.532 with std 0.045\n",
            "Mean precision score 0.563 with std 0.053\n",
            "Mean recall score 0.505 with std 0.047\n",
            "--- Test Sample Report ---\n",
            "Scores for the test sample :\n",
            " accuracy : 0.576\n",
            " f1 : 0.541\n",
            " precision : 0.576\n",
            " recall : 0.51\n",
            "Confusion matrix for the test sample :\n",
            "--- Grid Search Report ---\n",
            "Best parameters for DecisionTreeClassifier() :\n",
            " {'max_features': 12, 'min_samples_leaf': 3} with f1 score 0.578\n",
            "--- Cross Validation Report ---\n",
            "Mean accuracy score 0.575 with std 0.042\n",
            "Mean f1 score 0.539 with std 0.039\n",
            "Mean precision score 0.553 with std 0.052\n",
            "Mean recall score 0.527 with std 0.036\n",
            "--- Test Sample Report ---\n",
            "Scores for the test sample :\n",
            " accuracy : 0.514\n",
            " f1 : 0.494\n",
            " precision : 0.503\n",
            " recall : 0.484\n",
            "Confusion matrix for the test sample :\n"
          ]
        },
        {
          "output_type": "execute_result",
          "data": {
            "text/plain": [
              "[{'accuracy': 0.673, 'f1': 0.635, 'precision': 0.67, 'recall': 0.609},\n",
              " {'accuracy': 0.719, 'f1': 0.693, 'precision': 0.717, 'recall': 0.671},\n",
              " {'accuracy': 0.707, 'f1': 0.676, 'precision': 0.706, 'recall': 0.651},\n",
              " {'accuracy': 0.663, 'f1': 0.628, 'precision': 0.655, 'recall': 0.605},\n",
              " {'accuracy': 0.63, 'f1': 0.6, 'precision': 0.612, 'recall': 0.589},\n",
              " {'accuracy': 0.581, 'f1': 0.532, 'precision': 0.563, 'recall': 0.505},\n",
              " {'accuracy': 0.575, 'f1': 0.539, 'precision': 0.553, 'recall': 0.527}]"
            ]
          },
          "metadata": {},
          "execution_count": 17
        },
        {
          "output_type": "display_data",
          "data": {
            "image/png": "[encoded data removed]",
            "text/plain": [
              "<Figure size 432x288 with 2 Axes>"
            ]
          },
          "metadata": {
            "needs_background": "light"
          }
        },
        {
          "output_type": "display_data",
          "data": {
            "image/png": "[encoded data removed]",
            "text/plain": [
              "<Figure size 432x288 with 2 Axes>"
            ]
          },
          "metadata": {
            "needs_background": "light"
          }
        },
        {
          "output_type": "display_data",
          "data": {
            "image/png": "[encoded data removed]",
            "text/plain": [
              "<Figure size 432x288 with 2 Axes>"
            ]
          },
          "metadata": {
            "needs_background": "light"
          }
        },
        {
          "output_type": "display_data",
          "data": {
            "image/png": "[encoded data removed]",
            "text/plain": [
              "<Figure size 432x288 with 2 Axes>"
            ]
          },
          "metadata": {
            "needs_background": "light"
          }
        },
        {
          "output_type": "display_data",
          "data": {
            "image/png": "[encoded data removed]",
            "text/plain": [
              "<Figure size 432x288 with 2 Axes>"
            ]
          },
          "metadata": {
            "needs_background": "light"
          }
        },
        {
          "output_type": "display_data",
          "data": {
            "image/png": "[encoded data removed]",
            "text/plain": [
              "<Figure size 432x288 with 2 Axes>"
            ]
          },
          "metadata": {
            "needs_background": "light"
          }
        },
        {
          "output_type": "display_data",
          "data": {
            "image/png": "[encoded data removed]",
            "text/plain": [
              "<Figure size 432x288 with 2 Axes>"
            ]
          },
          "metadata": {
            "needs_background": "light"
          }
        }
      ]
    },
    {
      "cell_type": "code",
      "metadata": {
        "id": "IJ-7_4hNwHcW"
      },
      "source": [
        "DCT_PCA = er_PCA.last_best"
      ],
      "execution_count": 18,
      "outputs": []
    },
    {
      "cell_type": "markdown",
      "metadata": {
        "id": "w1GOburDxELC"
      },
      "source": [
        "## KNN - PCA"
      ]
    },
    {
      "cell_type": "code",
      "metadata": {
        "colab": {
          "base_uri": "https://localhost:8080/",
          "height": 1000
        },
        "id": "V-DOmU7wxAT5",
        "outputId": "b07b15c5-d3f2-4952-cad9-382f14fefbd3"
      },
      "source": [
        "param_grid_knn = [{\n",
        "    'n_neighbors': range(4,20,4)\n",
        "}]\n",
        "\n",
        "train_scores_knn = []\n",
        "for dtset in [pca_5, pca_10, pca_20, pca_50, pca_100, pca_200, pca_500] :\n",
        "  y = dtset[\"is_iceberg\"]\n",
        "  X_pca = dtset.drop('is_iceberg',axis=1)\n",
        "  X_train, X_test, y_train, y_test = train_test_split(X_pca, y, random_state = 0)\n",
        "  er_PCA_knn = EvaluateAndReport(dtset, X_train, X_test, y_train, y_test)\n",
        "  er_PCA_knn.cv_cv = 5 \n",
        "  er_PCA_knn.grid_cross_test_report(KNeighborsClassifier(), param_grid_knn)\n",
        "  train_scores_knn.append(er_PCA_knn.best_scores_t)\n",
        "\n",
        "train_scores_knn"
      ],
      "execution_count": 19,
      "outputs": [
        {
          "output_type": "stream",
          "name": "stdout",
          "text": [
            "--- Grid Search Report ---\n",
            "Best parameters for KNeighborsClassifier() :\n",
            " {'n_neighbors': 16} with f1 score 0.677\n",
            "--- Cross Validation Report ---\n",
            "Mean accuracy score 0.676 with std 0.013\n",
            "Mean f1 score 0.677 with std 0.016\n",
            "Mean precision score 0.638 with std 0.019\n",
            "Mean recall score 0.722 with std 0.042\n",
            "--- Test Sample Report ---\n",
            "Scores for the test sample :\n",
            " accuracy : 0.701\n",
            " f1 : 0.711\n",
            " precision : 0.674\n",
            " recall : 0.752\n",
            "Confusion matrix for the test sample :\n",
            "--- Grid Search Report ---\n",
            "Best parameters for KNeighborsClassifier() :\n",
            " {'n_neighbors': 8} with f1 score 0.711\n",
            "--- Cross Validation Report ---\n",
            "Mean accuracy score 0.728 with std 0.01\n",
            "Mean f1 score 0.711 with std 0.011\n",
            "Mean precision score 0.711 with std 0.013\n",
            "Mean recall score 0.711 with std 0.018\n",
            "--- Test Sample Report ---\n",
            "Scores for the test sample :\n",
            " accuracy : 0.723\n",
            " f1 : 0.723\n",
            " precision : 0.707\n",
            " recall : 0.739\n",
            "Confusion matrix for the test sample :\n",
            "--- Grid Search Report ---\n",
            "Best parameters for KNeighborsClassifier() :\n",
            " {'n_neighbors': 12} with f1 score 0.702\n",
            "--- Cross Validation Report ---\n",
            "Mean accuracy score 0.713 with std 0.028\n",
            "Mean f1 score 0.702 with std 0.022\n",
            "Mean precision score 0.69 with std 0.036\n",
            "Mean recall score 0.715 with std 0.014\n",
            "--- Test Sample Report ---\n",
            "Scores for the test sample :\n",
            " accuracy : 0.707\n",
            " f1 : 0.724\n",
            " precision : 0.672\n",
            " recall : 0.783\n",
            "Confusion matrix for the test sample :\n",
            "--- Grid Search Report ---\n",
            "Best parameters for KNeighborsClassifier() :\n",
            " {'n_neighbors': 16} with f1 score 0.703\n",
            "--- Cross Validation Report ---\n",
            "Mean accuracy score 0.704 with std 0.034\n",
            "Mean f1 score 0.703 with std 0.031\n",
            "Mean precision score 0.667 with std 0.038\n",
            "Mean recall score 0.744 with std 0.032\n",
            "--- Test Sample Report ---\n",
            "Scores for the test sample :\n",
            " accuracy : 0.704\n",
            " f1 : 0.725\n",
            " precision : 0.665\n",
            " recall : 0.796\n",
            "Confusion matrix for the test sample :\n",
            "--- Grid Search Report ---\n",
            "Best parameters for KNeighborsClassifier() :\n",
            " {'n_neighbors': 16} with f1 score 0.694\n",
            "--- Cross Validation Report ---\n",
            "Mean accuracy score 0.691 with std 0.022\n",
            "Mean f1 score 0.694 with std 0.018\n",
            "Mean precision score 0.652 with std 0.027\n",
            "Mean recall score 0.742 with std 0.025\n",
            "--- Test Sample Report ---\n",
            "Scores for the test sample :\n",
            " accuracy : 0.704\n",
            " f1 : 0.729\n",
            " precision : 0.66\n",
            " recall : 0.815\n",
            "Confusion matrix for the test sample :\n",
            "--- Grid Search Report ---\n",
            "Best parameters for KNeighborsClassifier() :\n",
            " {'n_neighbors': 16} with f1 score 0.682\n",
            "--- Cross Validation Report ---\n",
            "Mean accuracy score 0.681 with std 0.039\n",
            "Mean f1 score 0.682 with std 0.04\n",
            "Mean precision score 0.643 with std 0.04\n",
            "Mean recall score 0.729 with std 0.053\n",
            "--- Test Sample Report ---\n",
            "Scores for the test sample :\n",
            " accuracy : 0.673\n",
            " f1 : 0.699\n",
            " precision : 0.635\n",
            " recall : 0.777\n",
            "Confusion matrix for the test sample :\n",
            "--- Grid Search Report ---\n",
            "Best parameters for KNeighborsClassifier() :\n",
            " {'n_neighbors': 16} with f1 score 0.673\n",
            "--- Cross Validation Report ---\n",
            "Mean accuracy score 0.676 with std 0.028\n",
            "Mean f1 score 0.673 with std 0.023\n",
            "Mean precision score 0.642 with std 0.033\n",
            "Mean recall score 0.709 with std 0.021\n",
            "--- Test Sample Report ---\n",
            "Scores for the test sample :\n",
            " accuracy : 0.664\n",
            " f1 : 0.684\n",
            " precision : 0.632\n",
            " recall : 0.745\n",
            "Confusion matrix for the test sample :\n"
          ]
        },
        {
          "output_type": "execute_result",
          "data": {
            "text/plain": [
              "[{'accuracy': 0.676, 'f1': 0.677, 'precision': 0.638, 'recall': 0.722},\n",
              " {'accuracy': 0.728, 'f1': 0.711, 'precision': 0.711, 'recall': 0.711},\n",
              " {'accuracy': 0.713, 'f1': 0.702, 'precision': 0.69, 'recall': 0.715},\n",
              " {'accuracy': 0.704, 'f1': 0.703, 'precision': 0.667, 'recall': 0.744},\n",
              " {'accuracy': 0.691, 'f1': 0.694, 'precision': 0.652, 'recall': 0.742},\n",
              " {'accuracy': 0.681, 'f1': 0.682, 'precision': 0.643, 'recall': 0.729},\n",
              " {'accuracy': 0.676, 'f1': 0.673, 'precision': 0.642, 'recall': 0.709}]"
            ]
          },
          "metadata": {},
          "execution_count": 19
        },
        {
          "output_type": "display_data",
          "data": {
            "image/png": "[encoded data removed]",
            "text/plain": [
              "<Figure size 432x288 with 2 Axes>"
            ]
          },
          "metadata": {
            "needs_background": "light"
          }
        },
        {
          "output_type": "display_data",
          "data": {
            "image/png": "[encoded data removed]",
            "text/plain": [
              "<Figure size 432x288 with 2 Axes>"
            ]
          },
          "metadata": {
            "needs_background": "light"
          }
        },
        {
          "output_type": "display_data",
          "data": {
            "image/png": "[encoded data removed]",
            "text/plain": [
              "<Figure size 432x288 with 2 Axes>"
            ]
          },
          "metadata": {
            "needs_background": "light"
          }
        },
        {
          "output_type": "display_data",
          "data": {
            "image/png": "[encoded data removed]",
            "text/plain": [
              "<Figure size 432x288 with 2 Axes>"
            ]
          },
          "metadata": {
            "needs_background": "light"
          }
        },
        {
          "output_type": "display_data",
          "data": {
            "image/png": "[encoded data removed]",
            "text/plain": [
              "<Figure size 432x288 with 2 Axes>"
            ]
          },
          "metadata": {
            "needs_background": "light"
          }
        },
        {
          "output_type": "display_data",
          "data": {
            "image/png": "[encoded data removed]",
            "text/plain": [
              "<Figure size 432x288 with 2 Axes>"
            ]
          },
          "metadata": {
            "needs_background": "light"
          }
        },
        {
          "output_type": "display_data",
          "data": {
            "image/png": "[encoded data removed]",
            "text/plain": [
              "<Figure size 432x288 with 2 Axes>"
            ]
          },
          "metadata": {
            "needs_background": "light"
          }
        }
      ]
    },
    {
      "cell_type": "code",
      "metadata": {
        "id": "392MVQq6x2rL"
      },
      "source": [
        "KNN_PCA = er_PCA_knn.last_best"
      ],
      "execution_count": 20,
      "outputs": []
    },
    {
      "cell_type": "markdown",
      "metadata": {
        "id": "oTo9mlTUzZsn"
      },
      "source": [
        "## Combining PCA & Features"
      ]
    },
    {
      "cell_type": "code",
      "metadata": {
        "id": "NRJCThS0zYcH"
      },
      "source": [
        "df_stats = df_stats.loc[:,~df_stats.columns.duplicated()]\n",
        "df_5 = df_stats.drop(['inc_angle','id'],axis=1).join(pca_5.drop('is_iceberg',axis=1)).dropna()\n",
        "df_20 = df_stats.drop(['inc_angle','id'],axis=1).join(pca_20.drop('is_iceberg',axis=1)).dropna()\n",
        "df_50 = df_stats.drop(['inc_angle','id'],axis=1).join(pca_50.drop('is_iceberg',axis=1)).dropna()\n",
        "df_100 = df_stats.drop(['inc_angle','id'],axis=1).join(pca_100.drop('is_iceberg',axis=1)).dropna()"
      ],
      "execution_count": 21,
      "outputs": []
    },
    {
      "cell_type": "markdown",
      "metadata": {
        "id": "OBCbdAaFzhMH"
      },
      "source": [
        "## Decision Tree Classifier - Combined"
      ]
    },
    {
      "cell_type": "code",
      "metadata": {
        "colab": {
          "base_uri": "https://localhost:8080/",
          "height": 1000
        },
        "id": "XHNUnpS_zm-I",
        "outputId": "f564e919-59a4-4932-950a-0800449cc4fb"
      },
      "source": [
        "train_scores_mix_dct = []\n",
        "\n",
        "param_grid = [{\n",
        "    'min_samples_leaf': [2,3,4,5,6],\n",
        "    'max_features': [4,8,12]\n",
        "}]\n",
        "\n",
        "for dtset in [df_5, df_20, df_50, df_100] : \n",
        "  y = dtset[\"is_iceberg\"]\n",
        "  X_stats = dtset.drop(['is_iceberg'],axis=1)\n",
        "  X_train, X_test, y_train, y_test = train_test_split(X_stats, y, random_state = 0)\n",
        "  er_dct_comb = EvaluateAndReport(dtset, X_train, X_test, y_train, y_test)\n",
        "  er_dct_comb.cv_cv = 5 \n",
        "  er_dct_comb.grid_cross_test_report(DecisionTreeClassifier(), param_grid)\n",
        "  train_scores_mix_dct.append(er_dct_comb.best_scores_t)\n",
        "\n",
        "train_scores_mix_dct"
      ],
      "execution_count": 22,
      "outputs": [
        {
          "output_type": "stream",
          "name": "stdout",
          "text": [
            "--- Grid Search Report ---\n",
            "Best parameters for DecisionTreeClassifier() :\n",
            " {'max_features': 12, 'min_samples_leaf': 5} with f1 score 0.736\n",
            "--- Cross Validation Report ---\n",
            "Mean accuracy score 0.734 with std 0.031\n",
            "Mean f1 score 0.71 with std 0.038\n",
            "Mean precision score 0.73 with std 0.04\n",
            "Mean recall score 0.693 with std 0.056\n",
            "--- Test Sample Report ---\n",
            "Scores for the test sample :\n",
            " accuracy : 0.76\n",
            " f1 : 0.756\n",
            " precision : 0.753\n",
            " recall : 0.758\n",
            "Confusion matrix for the test sample :\n",
            "--- Grid Search Report ---\n",
            "Best parameters for DecisionTreeClassifier() :\n",
            " {'max_features': 8, 'min_samples_leaf': 5} with f1 score 0.73\n",
            "--- Cross Validation Report ---\n",
            "Mean accuracy score 0.734 with std 0.035\n",
            "Mean f1 score 0.717 with std 0.045\n",
            "Mean precision score 0.717 with std 0.035\n",
            "Mean recall score 0.719 with std 0.073\n",
            "--- Test Sample Report ---\n",
            "Scores for the test sample :\n",
            " accuracy : 0.729\n",
            " f1 : 0.72\n",
            " precision : 0.727\n",
            " recall : 0.713\n",
            "Confusion matrix for the test sample :\n",
            "--- Grid Search Report ---\n",
            "Best parameters for DecisionTreeClassifier() :\n",
            " {'max_features': 12, 'min_samples_leaf': 4} with f1 score 0.718\n",
            "--- Cross Validation Report ---\n",
            "Mean accuracy score 0.708 with std 0.037\n",
            "Mean f1 score 0.679 with std 0.034\n",
            "Mean precision score 0.706 with std 0.054\n",
            "Mean recall score 0.656 with std 0.019\n",
            "--- Test Sample Report ---\n",
            "Scores for the test sample :\n",
            " accuracy : 0.673\n",
            " f1 : 0.66\n",
            " precision : 0.671\n",
            " recall : 0.65\n",
            "Confusion matrix for the test sample :\n",
            "--- Grid Search Report ---\n",
            "Best parameters for DecisionTreeClassifier() :\n",
            " {'max_features': 12, 'min_samples_leaf': 3} with f1 score 0.676\n",
            "--- Cross Validation Report ---\n",
            "Mean accuracy score 0.697 with std 0.052\n",
            "Mean f1 score 0.676 with std 0.063\n",
            "Mean precision score 0.677 with std 0.05\n",
            "Mean recall score 0.676 with std 0.075\n",
            "--- Test Sample Report ---\n",
            "Scores for the test sample :\n",
            " accuracy : 0.735\n",
            " f1 : 0.727\n",
            " precision : 0.734\n",
            " recall : 0.72\n",
            "Confusion matrix for the test sample :\n"
          ]
        },
        {
          "output_type": "execute_result",
          "data": {
            "text/plain": [
              "[{'accuracy': 0.734, 'f1': 0.71, 'precision': 0.73, 'recall': 0.693},\n",
              " {'accuracy': 0.734, 'f1': 0.717, 'precision': 0.717, 'recall': 0.719},\n",
              " {'accuracy': 0.708, 'f1': 0.679, 'precision': 0.706, 'recall': 0.656},\n",
              " {'accuracy': 0.697, 'f1': 0.676, 'precision': 0.677, 'recall': 0.676}]"
            ]
          },
          "metadata": {},
          "execution_count": 22
        },
        {
          "output_type": "display_data",
          "data": {
            "image/png": "[encoded data removed]",
            "text/plain": [
              "<Figure size 432x288 with 2 Axes>"
            ]
          },
          "metadata": {
            "needs_background": "light"
          }
        },
        {
          "output_type": "display_data",
          "data": {
            "image/png": "[encoded data removed]",
            "text/plain": [
              "<Figure size 432x288 with 2 Axes>"
            ]
          },
          "metadata": {
            "needs_background": "light"
          }
        },
        {
          "output_type": "display_data",
          "data": {
            "image/png": "[encoded data removed]",
            "text/plain": [
              "<Figure size 432x288 with 2 Axes>"
            ]
          },
          "metadata": {
            "needs_background": "light"
          }
        },
        {
          "output_type": "display_data",
          "data": {
            "image/png": "[encoded data removed]",
            "text/plain": [
              "<Figure size 432x288 with 2 Axes>"
            ]
          },
          "metadata": {
            "needs_background": "light"
          }
        }
      ]
    },
    {
      "cell_type": "code",
      "metadata": {
        "id": "Lr-REzfv0NDJ"
      },
      "source": [
        "DCT_comb = er_dct_comb.last_best"
      ],
      "execution_count": 23,
      "outputs": []
    },
    {
      "cell_type": "markdown",
      "metadata": {
        "id": "AWC1rQYG1t2Q"
      },
      "source": [
        "## KNN - Combined"
      ]
    },
    {
      "cell_type": "code",
      "metadata": {
        "colab": {
          "base_uri": "https://localhost:8080/",
          "height": 1000
        },
        "id": "OsqvYPU_1ycC",
        "outputId": "c10aa4bc-038b-4fee-c511-d102543b1721"
      },
      "source": [
        "train_scores_mix_knn = []\n",
        "\n",
        "param_grid_knn = [{\n",
        "    'n_neighbors': range(2,20,2)\n",
        "}]\n",
        "\n",
        "for dtset in [df_5, df_20, df_50, df_100] : \n",
        "  y = dtset[\"is_iceberg\"]\n",
        "  X_stats = dtset.drop(['is_iceberg'],axis=1)\n",
        "  X_train, X_test, y_train, y_test = train_test_split(X_stats, y, random_state = 0)\n",
        "  er_knn_cmb = EvaluateAndReport(dtset, X_train, X_test, y_train, y_test)\n",
        "  er_knn_cmb.cv_cv = 5\n",
        "  er_knn_cmb.grid_cross_test_report(KNeighborsClassifier(), param_grid_knn)\n",
        "  train_scores_mix_knn.append(er_knn_cmb.best_scores_t)\n",
        "\n",
        "train_scores_mix_knn"
      ],
      "execution_count": 24,
      "outputs": [
        {
          "output_type": "stream",
          "name": "stdout",
          "text": [
            "--- Grid Search Report ---\n",
            "Best parameters for KNeighborsClassifier() :\n",
            " {'n_neighbors': 14} with f1 score 0.383\n",
            "--- Cross Validation Report ---\n",
            "Mean accuracy score 0.524 with std 0.025\n",
            "Mean f1 score 0.383 with std 0.031\n",
            "Mean precision score 0.492 with std 0.042\n",
            "Mean recall score 0.313 with std 0.028\n",
            "--- Test Sample Report ---\n",
            "Scores for the test sample :\n",
            " accuracy : 0.514\n",
            " f1 : 0.409\n",
            " precision : 0.505\n",
            " recall : 0.344\n",
            "Confusion matrix for the test sample :\n",
            "--- Grid Search Report ---\n",
            "Best parameters for KNeighborsClassifier() :\n",
            " {'n_neighbors': 12} with f1 score 0.385\n",
            "--- Cross Validation Report ---\n",
            "Mean accuracy score 0.531 with std 0.032\n",
            "Mean f1 score 0.385 with std 0.056\n",
            "Mean precision score 0.501 with std 0.05\n",
            "Mean recall score 0.313 with std 0.056\n",
            "--- Test Sample Report ---\n",
            "Scores for the test sample :\n",
            " accuracy : 0.514\n",
            " f1 : 0.391\n",
            " precision : 0.505\n",
            " recall : 0.318\n",
            "Confusion matrix for the test sample :\n",
            "--- Grid Search Report ---\n",
            "Best parameters for KNeighborsClassifier() :\n",
            " {'n_neighbors': 12} with f1 score 0.384\n",
            "--- Cross Validation Report ---\n",
            "Mean accuracy score 0.53 with std 0.03\n",
            "Mean f1 score 0.384 with std 0.055\n",
            "Mean precision score 0.499 with std 0.046\n",
            "Mean recall score 0.313 with std 0.056\n",
            "--- Test Sample Report ---\n",
            "Scores for the test sample :\n",
            " accuracy : 0.514\n",
            " f1 : 0.391\n",
            " precision : 0.505\n",
            " recall : 0.318\n",
            "Confusion matrix for the test sample :\n",
            "--- Grid Search Report ---\n",
            "Best parameters for KNeighborsClassifier() :\n",
            " {'n_neighbors': 14} with f1 score 0.388\n",
            "--- Cross Validation Report ---\n",
            "Mean accuracy score 0.525 with std 0.026\n",
            "Mean f1 score 0.388 with std 0.03\n",
            "Mean precision score 0.494 with std 0.043\n",
            "Mean recall score 0.32 with std 0.026\n",
            "--- Test Sample Report ---\n",
            "Scores for the test sample :\n",
            " accuracy : 0.517\n",
            " f1 : 0.415\n",
            " precision : 0.509\n",
            " recall : 0.35\n",
            "Confusion matrix for the test sample :\n"
          ]
        },
        {
          "output_type": "execute_result",
          "data": {
            "text/plain": [
              "[{'accuracy': 0.524, 'f1': 0.383, 'precision': 0.492, 'recall': 0.313},\n",
              " {'accuracy': 0.531, 'f1': 0.385, 'precision': 0.501, 'recall': 0.313},\n",
              " {'accuracy': 0.53, 'f1': 0.384, 'precision': 0.499, 'recall': 0.313},\n",
              " {'accuracy': 0.525, 'f1': 0.388, 'precision': 0.494, 'recall': 0.32}]"
            ]
          },
          "metadata": {},
          "execution_count": 24
        },
        {
          "output_type": "display_data",
          "data": {
            "image/png": "[encoded data removed]",
            "text/plain": [
              "<Figure size 432x288 with 2 Axes>"
            ]
          },
          "metadata": {
            "needs_background": "light"
          }
        },
        {
          "output_type": "display_data",
          "data": {
            "image/png": "[encoded data removed]",
            "text/plain": [
              "<Figure size 432x288 with 2 Axes>"
            ]
          },
          "metadata": {
            "needs_background": "light"
          }
        },
        {
          "output_type": "display_data",
          "data": {
            "image/png": "[encoded data removed]",
            "text/plain": [
              "<Figure size 432x288 with 2 Axes>"
            ]
          },
          "metadata": {
            "needs_background": "light"
          }
        },
        {
          "output_type": "display_data",
          "data": {
            "image/png": "[encoded data removed]",
            "text/plain": [
              "<Figure size 432x288 with 2 Axes>"
            ]
          },
          "metadata": {
            "needs_background": "light"
          }
        }
      ]
    },
    {
      "cell_type": "code",
      "metadata": {
        "id": "wN59pXIq2Td-"
      },
      "source": [
        "KNN_comb = er_knn_cmb.last_best"
      ],
      "execution_count": 25,
      "outputs": []
    },
    {
      "cell_type": "markdown",
      "metadata": {
        "id": "lDbX2miA2h2b"
      },
      "source": [
        "# Unsupervised learning with Keras and Tensorflow"
      ]
    },
    {
      "cell_type": "markdown",
      "metadata": {
        "id": "GwTVQfS82w-3"
      },
      "source": [
        "## Formatting the data"
      ]
    },
    {
      "cell_type": "code",
      "metadata": {
        "id": "3cQOpBz72oNB"
      },
      "source": [
        "X_b1=np.array(\n",
        "    [np.array(band).astype(np.float64).reshape(75, 75) for band in df[\"band_1\"]]\n",
        "    )\n",
        "\n",
        "X_b2=np.array(\n",
        "    [np.array(band).astype(np.float64).reshape(75, 75) for band in df[\"band_2\"]]\n",
        "    )\n",
        "\n",
        "train_cnn = np.concatenate([X_b1[:, :, :, np.newaxis], X_b2[:, :, :, np.newaxis]], axis=-1)\n",
        "target_cnn=df['is_iceberg']"
      ],
      "execution_count": 26,
      "outputs": []
    },
    {
      "cell_type": "code",
      "metadata": {
        "id": "5IkFu1O93GU1"
      },
      "source": [
        "from sklearn.model_selection import train_test_split\n",
        "\n",
        "X_train_cnn, X_valid_cnn, y_train_cnn, y_valid_cnn = train_test_split(train_cnn, target_cnn, random_state=42, train_size=0.7)"
      ],
      "execution_count": 27,
      "outputs": []
    },
    {
      "cell_type": "markdown",
      "metadata": {
        "id": "4Uwq46493TbJ"
      },
      "source": [
        "## First Model"
      ]
    },
    {
      "cell_type": "code",
      "metadata": {
        "colab": {
          "base_uri": "https://localhost:8080/",
          "height": 988
        },
        "id": "5GKnPhkq3V6a",
        "outputId": "ba518b11-3f41-4b2a-c51f-fe5f5849a4ad"
      },
      "source": [
        "covnet = DeepLearningExplore(df, X_train_cnn, X_valid_cnn, y_train_cnn, y_valid_cnn)\n",
        "\n",
        "cv_1 = covnet.create_model(4, 3)"
      ],
      "execution_count": 34,
      "outputs": [
        {
          "output_type": "error",
          "ename": "ValueError",
          "evalue": "ignored",
          "traceback": [
            "\u001b[0;31m---------------------------------------------------------------------------\u001b[0m",
            "\u001b[0;31mValueError\u001b[0m                                Traceback (most recent call last)",
            "\u001b[0;32m<ipython-input-34-17aba832e282>\u001b[0m in \u001b[0;36m<module>\u001b[0;34m()\u001b[0m\n\u001b[1;32m      1\u001b[0m \u001b[0mcovnet\u001b[0m \u001b[0;34m=\u001b[0m \u001b[0mDeepLearningExplore\u001b[0m\u001b[0;34m(\u001b[0m\u001b[0mdf\u001b[0m\u001b[0;34m,\u001b[0m \u001b[0mX_train_cnn\u001b[0m\u001b[0;34m,\u001b[0m \u001b[0mX_valid_cnn\u001b[0m\u001b[0;34m,\u001b[0m \u001b[0my_train_cnn\u001b[0m\u001b[0;34m,\u001b[0m \u001b[0my_valid_cnn\u001b[0m\u001b[0;34m)\u001b[0m\u001b[0;34m\u001b[0m\u001b[0;34m\u001b[0m\u001b[0m\n\u001b[1;32m      2\u001b[0m \u001b[0;34m\u001b[0m\u001b[0m\n\u001b[0;32m----> 3\u001b[0;31m \u001b[0mcv_1\u001b[0m \u001b[0;34m=\u001b[0m \u001b[0mcovnet\u001b[0m\u001b[0;34m.\u001b[0m\u001b[0mcreate_model\u001b[0m\u001b[0;34m(\u001b[0m\u001b[0;36m4\u001b[0m\u001b[0;34m,\u001b[0m \u001b[0;36m3\u001b[0m\u001b[0;34m)\u001b[0m\u001b[0;34m\u001b[0m\u001b[0;34m\u001b[0m\u001b[0m\n\u001b[0m",
            "\u001b[0;32m/content/app.py\u001b[0m in \u001b[0;36mcreate_model\u001b[0;34m(self, n_cv2D, n_dense, drop_cv2D, normalization, act_fun, disp)\u001b[0m\n\u001b[1;32m    346\u001b[0m     )\n\u001b[1;32m    347\u001b[0m \u001b[0;34m\u001b[0m\u001b[0m\n\u001b[0;32m--> 348\u001b[0;31m     \u001b[0mmodel\u001b[0m\u001b[0;34m.\u001b[0m\u001b[0mbuild\u001b[0m\u001b[0;34m(\u001b[0m\u001b[0minput_shape_\u001b[0m\u001b[0;34m)\u001b[0m\u001b[0;34m\u001b[0m\u001b[0;34m\u001b[0m\u001b[0m\n\u001b[0m\u001b[1;32m    349\u001b[0m \u001b[0;34m\u001b[0m\u001b[0m\n\u001b[1;32m    350\u001b[0m     \u001b[0mself\u001b[0m\u001b[0;34m.\u001b[0m\u001b[0mcompiled_model\u001b[0m \u001b[0;34m=\u001b[0m \u001b[0mmodel\u001b[0m\u001b[0;34m\u001b[0m\u001b[0;34m\u001b[0m\u001b[0m\n",
            "\u001b[0;32m/usr/local/lib/python3.7/dist-packages/keras/engine/sequential.py\u001b[0m in \u001b[0;36mbuild\u001b[0;34m(self, input_shape)\u001b[0m\n\u001b[1;32m    347\u001b[0m         \u001b[0minput_shape\u001b[0m \u001b[0;34m=\u001b[0m \u001b[0mtuple\u001b[0m\u001b[0;34m(\u001b[0m\u001b[0minput_shape\u001b[0m\u001b[0;34m)\u001b[0m\u001b[0;34m\u001b[0m\u001b[0;34m\u001b[0m\u001b[0m\n\u001b[1;32m    348\u001b[0m         \u001b[0mself\u001b[0m\u001b[0;34m.\u001b[0m\u001b[0m_build_input_shape\u001b[0m \u001b[0;34m=\u001b[0m \u001b[0minput_shape\u001b[0m\u001b[0;34m\u001b[0m\u001b[0;34m\u001b[0m\u001b[0m\n\u001b[0;32m--> 349\u001b[0;31m         \u001b[0msuper\u001b[0m\u001b[0;34m(\u001b[0m\u001b[0mSequential\u001b[0m\u001b[0;34m,\u001b[0m \u001b[0mself\u001b[0m\u001b[0;34m)\u001b[0m\u001b[0;34m.\u001b[0m\u001b[0mbuild\u001b[0m\u001b[0;34m(\u001b[0m\u001b[0minput_shape\u001b[0m\u001b[0;34m)\u001b[0m\u001b[0;34m\u001b[0m\u001b[0;34m\u001b[0m\u001b[0m\n\u001b[0m\u001b[1;32m    350\u001b[0m     \u001b[0mself\u001b[0m\u001b[0;34m.\u001b[0m\u001b[0mbuilt\u001b[0m \u001b[0;34m=\u001b[0m \u001b[0;32mTrue\u001b[0m\u001b[0;34m\u001b[0m\u001b[0;34m\u001b[0m\u001b[0m\n\u001b[1;32m    351\u001b[0m \u001b[0;34m\u001b[0m\u001b[0m\n",
            "\u001b[0;32m/usr/local/lib/python3.7/dist-packages/keras/engine/training.py\u001b[0m in \u001b[0;36mbuild\u001b[0;34m(self, input_shape)\u001b[0m\n\u001b[1;32m    438\u001b[0m               'method accepts an `inputs` argument.')\n\u001b[1;32m    439\u001b[0m         \u001b[0;32mtry\u001b[0m\u001b[0;34m:\u001b[0m\u001b[0;34m\u001b[0m\u001b[0;34m\u001b[0m\u001b[0m\n\u001b[0;32m--> 440\u001b[0;31m           \u001b[0mself\u001b[0m\u001b[0;34m.\u001b[0m\u001b[0mcall\u001b[0m\u001b[0;34m(\u001b[0m\u001b[0mx\u001b[0m\u001b[0;34m,\u001b[0m \u001b[0;34m**\u001b[0m\u001b[0mkwargs\u001b[0m\u001b[0;34m)\u001b[0m\u001b[0;34m\u001b[0m\u001b[0;34m\u001b[0m\u001b[0m\n\u001b[0m\u001b[1;32m    441\u001b[0m         \u001b[0;32mexcept\u001b[0m \u001b[0;34m(\u001b[0m\u001b[0mtf\u001b[0m\u001b[0;34m.\u001b[0m\u001b[0merrors\u001b[0m\u001b[0;34m.\u001b[0m\u001b[0mInvalidArgumentError\u001b[0m\u001b[0;34m,\u001b[0m \u001b[0mTypeError\u001b[0m\u001b[0;34m)\u001b[0m \u001b[0;32mas\u001b[0m \u001b[0me\u001b[0m\u001b[0;34m:\u001b[0m\u001b[0;34m\u001b[0m\u001b[0;34m\u001b[0m\u001b[0m\n\u001b[1;32m    442\u001b[0m           raise ValueError('You cannot build your model by calling `build` '\n",
            "\u001b[0;32m/usr/local/lib/python3.7/dist-packages/keras/engine/sequential.py\u001b[0m in \u001b[0;36mcall\u001b[0;34m(self, inputs, training, mask)\u001b[0m\n\u001b[1;32m    385\u001b[0m         \u001b[0mkwargs\u001b[0m\u001b[0;34m[\u001b[0m\u001b[0;34m'training'\u001b[0m\u001b[0;34m]\u001b[0m \u001b[0;34m=\u001b[0m \u001b[0mtraining\u001b[0m\u001b[0;34m\u001b[0m\u001b[0;34m\u001b[0m\u001b[0m\n\u001b[1;32m    386\u001b[0m \u001b[0;34m\u001b[0m\u001b[0m\n\u001b[0;32m--> 387\u001b[0;31m       \u001b[0moutputs\u001b[0m \u001b[0;34m=\u001b[0m \u001b[0mlayer\u001b[0m\u001b[0;34m(\u001b[0m\u001b[0minputs\u001b[0m\u001b[0;34m,\u001b[0m \u001b[0;34m**\u001b[0m\u001b[0mkwargs\u001b[0m\u001b[0;34m)\u001b[0m\u001b[0;34m\u001b[0m\u001b[0;34m\u001b[0m\u001b[0m\n\u001b[0m\u001b[1;32m    388\u001b[0m \u001b[0;34m\u001b[0m\u001b[0m\n\u001b[1;32m    389\u001b[0m       \u001b[0;32mif\u001b[0m \u001b[0mlen\u001b[0m\u001b[0;34m(\u001b[0m\u001b[0mtf\u001b[0m\u001b[0;34m.\u001b[0m\u001b[0mnest\u001b[0m\u001b[0;34m.\u001b[0m\u001b[0mflatten\u001b[0m\u001b[0;34m(\u001b[0m\u001b[0moutputs\u001b[0m\u001b[0;34m)\u001b[0m\u001b[0;34m)\u001b[0m \u001b[0;34m!=\u001b[0m \u001b[0;36m1\u001b[0m\u001b[0;34m:\u001b[0m\u001b[0;34m\u001b[0m\u001b[0;34m\u001b[0m\u001b[0m\n",
            "\u001b[0;32m/usr/local/lib/python3.7/dist-packages/keras/utils/traceback_utils.py\u001b[0m in \u001b[0;36merror_handler\u001b[0;34m(*args, **kwargs)\u001b[0m\n\u001b[1;32m     65\u001b[0m     \u001b[0;32mexcept\u001b[0m \u001b[0mException\u001b[0m \u001b[0;32mas\u001b[0m \u001b[0me\u001b[0m\u001b[0;34m:\u001b[0m  \u001b[0;31m# pylint: disable=broad-except\u001b[0m\u001b[0;34m\u001b[0m\u001b[0;34m\u001b[0m\u001b[0m\n\u001b[1;32m     66\u001b[0m       \u001b[0mfiltered_tb\u001b[0m \u001b[0;34m=\u001b[0m \u001b[0m_process_traceback_frames\u001b[0m\u001b[0;34m(\u001b[0m\u001b[0me\u001b[0m\u001b[0;34m.\u001b[0m\u001b[0m__traceback__\u001b[0m\u001b[0;34m)\u001b[0m\u001b[0;34m\u001b[0m\u001b[0;34m\u001b[0m\u001b[0m\n\u001b[0;32m---> 67\u001b[0;31m       \u001b[0;32mraise\u001b[0m \u001b[0me\u001b[0m\u001b[0;34m.\u001b[0m\u001b[0mwith_traceback\u001b[0m\u001b[0;34m(\u001b[0m\u001b[0mfiltered_tb\u001b[0m\u001b[0;34m)\u001b[0m \u001b[0;32mfrom\u001b[0m \u001b[0;32mNone\u001b[0m\u001b[0;34m\u001b[0m\u001b[0;34m\u001b[0m\u001b[0m\n\u001b[0m\u001b[1;32m     68\u001b[0m     \u001b[0;32mfinally\u001b[0m\u001b[0;34m:\u001b[0m\u001b[0;34m\u001b[0m\u001b[0;34m\u001b[0m\u001b[0m\n\u001b[1;32m     69\u001b[0m       \u001b[0;32mdel\u001b[0m \u001b[0mfiltered_tb\u001b[0m\u001b[0;34m\u001b[0m\u001b[0;34m\u001b[0m\u001b[0m\n",
            "\u001b[0;32m/usr/local/lib/python3.7/dist-packages/keras/engine/input_spec.py\u001b[0m in \u001b[0;36massert_input_compatibility\u001b[0;34m(input_spec, inputs, layer_name)\u001b[0m\n\u001b[1;32m    225\u001b[0m       \u001b[0mndim\u001b[0m \u001b[0;34m=\u001b[0m \u001b[0mx\u001b[0m\u001b[0;34m.\u001b[0m\u001b[0mshape\u001b[0m\u001b[0;34m.\u001b[0m\u001b[0mrank\u001b[0m\u001b[0;34m\u001b[0m\u001b[0;34m\u001b[0m\u001b[0m\n\u001b[1;32m    226\u001b[0m       \u001b[0;32mif\u001b[0m \u001b[0mndim\u001b[0m \u001b[0;32mis\u001b[0m \u001b[0;32mnot\u001b[0m \u001b[0;32mNone\u001b[0m \u001b[0;32mand\u001b[0m \u001b[0mndim\u001b[0m \u001b[0;34m<\u001b[0m \u001b[0mspec\u001b[0m\u001b[0;34m.\u001b[0m\u001b[0mmin_ndim\u001b[0m\u001b[0;34m:\u001b[0m\u001b[0;34m\u001b[0m\u001b[0;34m\u001b[0m\u001b[0m\n\u001b[0;32m--> 227\u001b[0;31m         raise ValueError(f'Input {input_index} of layer \"{layer_name}\" '\n\u001b[0m\u001b[1;32m    228\u001b[0m                          \u001b[0;34m'is incompatible with the layer: '\u001b[0m\u001b[0;34m\u001b[0m\u001b[0;34m\u001b[0m\u001b[0m\n\u001b[1;32m    229\u001b[0m                          \u001b[0;34mf'expected min_ndim={spec.min_ndim}, '\u001b[0m\u001b[0;34m\u001b[0m\u001b[0;34m\u001b[0m\u001b[0m\n",
            "\u001b[0;31mValueError\u001b[0m: Input 0 of layer \"conv2d_6\" is incompatible with the layer: expected min_ndim=4, found ndim=3. Full shape received: (75, 75, 2)"
          ]
        }
      ]
    },
    {
      "cell_type": "code",
      "metadata": {
        "id": "K4MsE3RsjkLh"
      },
      "source": [
        ""
      ],
      "execution_count": null,
      "outputs": []
    }
  ]
}