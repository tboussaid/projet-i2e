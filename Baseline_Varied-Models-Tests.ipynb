{
  "nbformat": 4,
  "nbformat_minor": 0,
  "metadata": {
    "colab": {
      "name": "Iceberg_Baseline_Varied-Models-Tests.ipynb",
      "provenance": [],
      "collapsed_sections": [],
      "toc_visible": true
    },
    "kernelspec": {
      "name": "python3",
      "display_name": "Python 3"
    },
    "language_info": {
      "name": "python"
    }
  },
  "cells": [
    {
      "cell_type": "markdown",
      "metadata": {
        "id": "4meHDUg9hc9n"
      },
      "source": [
        "# Loading\n",
        "\n",
        "\n"
      ]
    },
    {
      "cell_type": "code",
      "metadata": {
        "id": "rSHyX_kkhq5G"
      },
      "source": [
        "# Import useful libraries\n",
        "import pandas as pd\n",
        "import json\n",
        "import numpy as np\n",
        "import seaborn as sns\n",
        "import plotly.express as px\n",
        "import matplotlib.pyplot as plt\n",
        "import plotly.express as px\n",
        "from sklearn.decomposition import PCA\n",
        "from sklearn.preprocessing import scale, normalize, StandardScaler"
      ],
      "execution_count": 2,
      "outputs": []
    },
    {
      "cell_type": "code",
      "metadata": {
        "colab": {
          "base_uri": "https://localhost:8080/"
        },
        "id": "BNOhjJBchyQ-",
        "outputId": "47c88410-0b7c-4bcd-e5eb-a2a388cef2fe"
      },
      "source": [
        "# Import Google Drive\n",
        "from google.colab import drive\n",
        "drive.mount('/content/drive')"
      ],
      "execution_count": 3,
      "outputs": [
        {
          "output_type": "stream",
          "name": "stdout",
          "text": [
            "Mounted at /content/drive\n"
          ]
        }
      ]
    },
    {
      "cell_type": "code",
      "metadata": {
        "id": "zuGqCzsBh0tF",
        "colab": {
          "base_uri": "https://localhost:8080/",
          "height": 206
        },
        "outputId": "cac8fc13-369c-4a80-f326-e9b287a692a3"
      },
      "source": [
        "# returns JSON object as a dictionary\n",
        "f = open('/content/drive/MyDrive/Iceberg/train.json',) # The train.json file needs to be in an \"Iceberg\" directory\n",
        "\n",
        "# creating a dataframe\n",
        "df_raw = pd.DataFrame(json.load(f))\n",
        "\n",
        "# visualising the first rows\n",
        "df_raw.head()"
      ],
      "execution_count": 4,
      "outputs": [
        {
          "output_type": "execute_result",
          "data": {
            "text/html": [
              "<div>\n",
              "<style scoped>\n",
              "    .dataframe tbody tr th:only-of-type {\n",
              "        vertical-align: middle;\n",
              "    }\n",
              "\n",
              "    .dataframe tbody tr th {\n",
              "        vertical-align: top;\n",
              "    }\n",
              "\n",
              "    .dataframe thead th {\n",
              "        text-align: right;\n",
              "    }\n",
              "</style>\n",
              "<table border=\"1\" class=\"dataframe\">\n",
              "  <thead>\n",
              "    <tr style=\"text-align: right;\">\n",
              "      <th></th>\n",
              "      <th>id</th>\n",
              "      <th>band_1</th>\n",
              "      <th>band_2</th>\n",
              "      <th>inc_angle</th>\n",
              "      <th>is_iceberg</th>\n",
              "    </tr>\n",
              "  </thead>\n",
              "  <tbody>\n",
              "    <tr>\n",
              "      <th>0</th>\n",
              "      <td>dfd5f913</td>\n",
              "      <td>[-27.878361, -27.15416, -28.668615, -29.537971...</td>\n",
              "      <td>[-27.154118, -29.537888, -31.0306, -32.190483,...</td>\n",
              "      <td>43.9239</td>\n",
              "      <td>0</td>\n",
              "    </tr>\n",
              "    <tr>\n",
              "      <th>1</th>\n",
              "      <td>e25388fd</td>\n",
              "      <td>[-12.242375, -14.920305, -14.920363, -12.66633...</td>\n",
              "      <td>[-31.506321, -27.984554, -26.645678, -23.76760...</td>\n",
              "      <td>38.1562</td>\n",
              "      <td>0</td>\n",
              "    </tr>\n",
              "    <tr>\n",
              "      <th>2</th>\n",
              "      <td>58b2aaa0</td>\n",
              "      <td>[-24.603676, -24.603714, -24.871029, -23.15277...</td>\n",
              "      <td>[-24.870956, -24.092632, -20.653963, -19.41104...</td>\n",
              "      <td>45.2859</td>\n",
              "      <td>1</td>\n",
              "    </tr>\n",
              "    <tr>\n",
              "      <th>3</th>\n",
              "      <td>4cfc3a18</td>\n",
              "      <td>[-22.454607, -23.082819, -23.998013, -23.99805...</td>\n",
              "      <td>[-27.889421, -27.519794, -27.165262, -29.10350...</td>\n",
              "      <td>43.8306</td>\n",
              "      <td>0</td>\n",
              "    </tr>\n",
              "    <tr>\n",
              "      <th>4</th>\n",
              "      <td>271f93f4</td>\n",
              "      <td>[-26.006956, -23.164886, -23.164886, -26.89116...</td>\n",
              "      <td>[-27.206915, -30.259186, -30.259186, -23.16495...</td>\n",
              "      <td>35.6256</td>\n",
              "      <td>0</td>\n",
              "    </tr>\n",
              "  </tbody>\n",
              "</table>\n",
              "</div>"
            ],
            "text/plain": [
              "         id  ... is_iceberg\n",
              "0  dfd5f913  ...          0\n",
              "1  e25388fd  ...          0\n",
              "2  58b2aaa0  ...          1\n",
              "3  4cfc3a18  ...          0\n",
              "4  271f93f4  ...          0\n",
              "\n",
              "[5 rows x 5 columns]"
            ]
          },
          "metadata": {},
          "execution_count": 4
        }
      ]
    },
    {
      "cell_type": "code",
      "metadata": {
        "id": "TlnTZU5MRniK",
        "colab": {
          "base_uri": "https://localhost:8080/"
        },
        "outputId": "87470f2f-fcfd-43fb-ee96-fb04b08fb2e8"
      },
      "source": [
        "# Visualising info\n",
        "print(df_raw.info())"
      ],
      "execution_count": 5,
      "outputs": [
        {
          "output_type": "stream",
          "name": "stdout",
          "text": [
            "<class 'pandas.core.frame.DataFrame'>\n",
            "RangeIndex: 1604 entries, 0 to 1603\n",
            "Data columns (total 5 columns):\n",
            " #   Column      Non-Null Count  Dtype \n",
            "---  ------      --------------  ----- \n",
            " 0   id          1604 non-null   object\n",
            " 1   band_1      1604 non-null   object\n",
            " 2   band_2      1604 non-null   object\n",
            " 3   inc_angle   1604 non-null   object\n",
            " 4   is_iceberg  1604 non-null   int64 \n",
            "dtypes: int64(1), object(4)\n",
            "memory usage: 62.8+ KB\n",
            "None\n"
          ]
        }
      ]
    },
    {
      "cell_type": "markdown",
      "metadata": {
        "id": "2AfK2VG-h7lt"
      },
      "source": [
        "# Data treatment"
      ]
    },
    {
      "cell_type": "code",
      "metadata": {
        "id": "mNdQlZ2QiDBd"
      },
      "source": [
        "# Train/test split\n",
        "df = df_raw.sample(frac = 0.8, random_state = 42)\n",
        "df_test = df_raw.drop(df.index)"
      ],
      "execution_count": 6,
      "outputs": []
    },
    {
      "cell_type": "code",
      "metadata": {
        "id": "_gsnoJ2bSvnK",
        "colab": {
          "base_uri": "https://localhost:8080/"
        },
        "outputId": "8ae41b79-7da9-4584-f0b9-7b9eb81a9b1b"
      },
      "source": [
        "# Changing inc_angle from object to float64\n",
        "df.replace('na', np.NaN, inplace = True) # Replacing the 'na' text in inc_angle by NaN\n",
        "df['inc_angle'].astype('float', copy = False) # Casting inc_angle to float works with the NaN\n",
        "df[df.inc_angle.isna()] # 133 NaN\n",
        "print(df.info()) # inc_angle is now float64"
      ],
      "execution_count": 7,
      "outputs": [
        {
          "output_type": "stream",
          "name": "stdout",
          "text": [
            "<class 'pandas.core.frame.DataFrame'>\n",
            "Int64Index: 1283 entries, 530 to 546\n",
            "Data columns (total 5 columns):\n",
            " #   Column      Non-Null Count  Dtype  \n",
            "---  ------      --------------  -----  \n",
            " 0   id          1283 non-null   object \n",
            " 1   band_1      1283 non-null   object \n",
            " 2   band_2      1283 non-null   object \n",
            " 3   inc_angle   1175 non-null   float64\n",
            " 4   is_iceberg  1283 non-null   int64  \n",
            "dtypes: float64(1), int64(1), object(3)\n",
            "memory usage: 60.1+ KB\n",
            "None\n"
          ]
        }
      ]
    },
    {
      "cell_type": "markdown",
      "metadata": {
        "id": "NMgswnEs8NK7"
      },
      "source": [
        "# Split and data selection"
      ]
    },
    {
      "cell_type": "code",
      "metadata": {
        "id": "EhqB4U5uHZcD"
      },
      "source": [
        "from sklearn.model_selection import train_test_split, cross_val_score\n",
        "from sklearn.tree import DecisionTreeClassifier\n",
        "from sklearn.metrics import mean_absolute_error"
      ],
      "execution_count": 54,
      "outputs": []
    },
    {
      "cell_type": "code",
      "metadata": {
        "id": "xW-rMicj8TlH"
      },
      "source": [
        "# selecting the prediction target and the model features\n",
        "y = df[\"is_iceberg\"]\n",
        "X = pd.DataFrame(df.band_1.to_list(), index=df.index, columns=[f\"band_1_{i}\" for i in range(75*75)]).join(pd.DataFrame(df.band_2.to_list(), index=df.index, columns=[f\"band_2_{i}\" for i in range(75*75)]))\n",
        "\n",
        "# split data into training and validation data, for both features and target\n",
        "# The split is based on a random number generator. \n",
        "# Supplying a numeric value to the random_state argument guarantees we get the same \n",
        "# split every time we run this script.\n",
        "X_train, X_test, y_train, y_test = train_test_split(X, y, random_state = 0)"
      ],
      "execution_count": 50,
      "outputs": []
    },
    {
      "cell_type": "markdown",
      "metadata": {
        "id": "Pi3ek7R1twSx"
      },
      "source": [
        "# Model tests"
      ]
    },
    {
      "cell_type": "code",
      "metadata": {
        "id": "hCzRxW4hH2iF"
      },
      "source": [
        "from sklearn.model_selection import GridSearchCV\n",
        "from sklearn.metrics import ConfusionMatrixDisplay, confusion_matrix\n",
        "from sklearn.metrics import precision_score, recall_score, f1_score\n",
        "\n",
        "def grid_cross_report(classifier, param_grid, scoring='f1'):\n",
        "\n",
        "  grid_search = GridSearchCV(classifier, param_grid, cv = 5, scoring = scoring, return_train_score = True)\n",
        "  grid_search.fit(X_train, y_train)\n",
        "\n",
        "  print(f'---\\nBest parameters for {classifier} :\\n {grid_search.best_params_} with {scoring} score {round(grid_search.best_score_,3)}')\n",
        "\n",
        "  best = grid_search.best_estimator_\n",
        "  scores = cross_val_score(best, X_train, y_train, cv=10, scoring=scoring)\n",
        "  print(f'Cross_val mean {scoring} score {round(np.mean(scores),3)} with std {round(np.std(scores),3)}')\n",
        "\n",
        "  best.fit(X_train, y_train)\n",
        "  y_pred = best.predict(X_test)\n",
        "\n",
        "  print(f'Scores for the test sample :\\n f1 : {round(f1_score(y_test, y_pred),3)}\\n precision : {round(precision_score(y_test, y_pred),3)}\\n recall : {round(recall_score(y_test, y_pred),3)}')\n",
        "\n",
        "  print('Confusion matrix for the test sample :')\n",
        "  cm = confusion_matrix(y_test, y_pred)\n",
        "  ConfusionMatrixDisplay(confusion_matrix=cm, display_labels=['Iceberg','Boat']).plot()"
      ],
      "execution_count": 61,
      "outputs": []
    },
    {
      "cell_type": "code",
      "metadata": {
        "id": "kiepsmL7c3p7"
      },
      "source": [
        "def cross_report(classifier, scoring='f1'):\n",
        "\n",
        "  print(f'---\\n{classifier}')\n",
        "  scores = cross_val_score(classifier, X_train, y_train, cv=10, scoring=scoring)\n",
        "  print(f'Cross_val mean {scoring} score {round(np.mean(scores),3)} with std {round(np.std(scores),3)}')\n",
        "\n",
        "  classifier.fit(X_train, y_train)\n",
        "  y_pred = classifier.predict(X_test)\n",
        "\n",
        "  print(f'Scores for the test sample :\\n f1 : {round(f1_score(y_test, y_pred),3)}\\n precision : {round(precision_score(y_test, y_pred),3)}\\n recall : {round(recall_score(y_test, y_pred),3)}')\n",
        "\n",
        "  print('Confusion matrix for the test sample :')\n",
        "  cm = confusion_matrix(y_test, y_pred)\n",
        "  ConfusionMatrixDisplay(confusion_matrix=cm, display_labels=['Iceberg','Boat']).plot()"
      ],
      "execution_count": 72,
      "outputs": []
    },
    {
      "cell_type": "markdown",
      "metadata": {
        "id": "Z97mKcKEt0K2"
      },
      "source": [
        "## Decision Tree"
      ]
    },
    {
      "cell_type": "code",
      "metadata": {
        "colab": {
          "base_uri": "https://localhost:8080/",
          "height": 538
        },
        "id": "1K2Z9u_TMQXk",
        "outputId": "899ee5a5-530f-41c5-e6c6-7629654bbe30"
      },
      "source": [
        "param_grid = [{\n",
        "    'min_samples_leaf': range(2,4,1),\n",
        "    'max_features': [None]\n",
        "}]\n",
        "grid_cross_report(DecisionTreeClassifier(), param_grid)"
      ],
      "execution_count": 85,
      "outputs": [
        {
          "output_type": "stream",
          "name": "stdout",
          "text": [
            "---\n",
            "Best parameters for DecisionTreeClassifier(ccp_alpha=0.0, class_weight=None, criterion='gini',\n",
            "                       max_depth=None, max_features=None, max_leaf_nodes=None,\n",
            "                       min_impurity_decrease=0.0, min_impurity_split=None,\n",
            "                       min_samples_leaf=1, min_samples_split=2,\n",
            "                       min_weight_fraction_leaf=0.0, presort='deprecated',\n",
            "                       random_state=None, splitter='best') :\n",
            " {'max_features': None, 'min_samples_leaf': 3} with f1 score 0.607\n",
            "Cross_val mean f1 score 0.639 with std 0.025\n",
            "Scores for the test sample :\n",
            " f1 : 0.694\n",
            " precision : 0.694\n",
            " recall : 0.694\n",
            "Confusion matrix for the test sample :\n"
          ]
        },
        {
          "output_type": "display_data",
          "data": {
            "image/png": "[encoded data removed]",
            "text/plain": [
              "<Figure size 432x288 with 2 Axes>"
            ]
          },
          "metadata": {
            "needs_background": "light"
          }
        }
      ]
    },
    {
      "cell_type": "code",
      "metadata": {
        "colab": {
          "base_uri": "https://localhost:8080/",
          "height": 409
        },
        "id": "2nqGt6m-dG12",
        "outputId": "95bcf7be-9a70-4090-c05d-2b69f796edde"
      },
      "source": [
        "cross_report(DecisionTreeClassifier(min_samples_leaf = 3))"
      ],
      "execution_count": 70,
      "outputs": [
        {
          "output_type": "stream",
          "name": "stdout",
          "text": [
            "---\n",
            "Cross_val mean f1 score 0.62 with std 0.042\n",
            "Scores for the test sample :\n",
            " f1 : 0.673\n",
            " precision : 0.684\n",
            " recall : 0.662\n",
            "Confusion matrix for the test sample :\n"
          ]
        },
        {
          "output_type": "display_data",
          "data": {
            "image/png": "[encoded data removed]",
            "text/plain": [
              "<Figure size 432x288 with 2 Axes>"
            ]
          },
          "metadata": {
            "needs_background": "light"
          }
        }
      ]
    },
    {
      "cell_type": "markdown",
      "metadata": {
        "id": "3w9xZEdahwjk"
      },
      "source": [
        "## Nearest Neighbors\n",
        "https://scikit-learn.org/stable/modules/generated/sklearn.neighbors.KNeighborsClassifier.html#sklearn.neighbors.KNeighborsClassifier"
      ]
    },
    {
      "cell_type": "code",
      "metadata": {
        "colab": {
          "base_uri": "https://localhost:8080/",
          "height": 483
        },
        "id": "9aoZZsI8hu28",
        "outputId": "48001ba2-8937-4c1d-b893-652554548474"
      },
      "source": [
        "from sklearn.neighbors import KNeighborsClassifier\n",
        "\n",
        "param_grid = [{\n",
        "    'n_neighbors': range(4,20,4)\n",
        "}]\n",
        "grid_cross_report(KNeighborsClassifier(), param_grid)"
      ],
      "execution_count": 76,
      "outputs": [
        {
          "output_type": "stream",
          "name": "stdout",
          "text": [
            "---\n",
            "Best parameters for KNeighborsClassifier(algorithm='auto', leaf_size=30, metric='minkowski',\n",
            "                     metric_params=None, n_jobs=None, n_neighbors=5, p=2,\n",
            "                     weights='uniform') :\n",
            " {'n_neighbors': 8} with f1 score 0.72\n",
            "Cross_val mean f1 score 0.719 with std 0.052\n",
            "Scores for the test sample :\n",
            " f1 : 0.749\n",
            " precision : 0.706\n",
            " recall : 0.796\n",
            "Confusion matrix for the test sample :\n"
          ]
        },
        {
          "output_type": "display_data",
          "data": {
            "image/png": "[encoded data removed]",
            "text/plain": [
              "<Figure size 432x288 with 2 Axes>"
            ]
          },
          "metadata": {
            "needs_background": "light"
          }
        }
      ]
    },
    {
      "cell_type": "markdown",
      "metadata": {
        "id": "Qt4EsnH3uG2r"
      },
      "source": [
        "## C-Support Vector\n",
        "https://scikit-learn.org/stable/modules/generated/sklearn.svm.SVC.html#sklearn.svm.SVC\n",
        "https://scikit-learn.org/stable/modules/svm.html#svm-kernels"
      ]
    },
    {
      "cell_type": "code",
      "metadata": {
        "colab": {
          "base_uri": "https://localhost:8080/",
          "height": 501
        },
        "id": "SCyjFOJCui6A",
        "outputId": "4a560571-d7f9-4228-fd51-dc12eccf83e5"
      },
      "source": [
        "from sklearn.svm import SVC\n",
        "\n",
        "param_grid = [{\n",
        "    'C': np.logspace(-3, 0, 4)\n",
        "}]\n",
        "grid_cross_report(SVC(kernel='linear'), param_grid)"
      ],
      "execution_count": 81,
      "outputs": [
        {
          "output_type": "stream",
          "name": "stdout",
          "text": [
            "---\n",
            "Best parameters for SVC(C=1.0, break_ties=False, cache_size=200, class_weight=None, coef0=0.0,\n",
            "    decision_function_shape='ovr', degree=3, gamma='scale', kernel='linear',\n",
            "    max_iter=-1, probability=False, random_state=None, shrinking=True,\n",
            "    tol=0.001, verbose=False) :\n",
            " {'C': 0.001} with f1 score 0.703\n",
            "Cross_val mean f1 score 0.702 with std 0.033\n",
            "Scores for the test sample :\n",
            " f1 : 0.726\n",
            " precision : 0.719\n",
            " recall : 0.732\n",
            "Confusion matrix for the test sample :\n"
          ]
        },
        {
          "output_type": "display_data",
          "data": {
            "image/png": "[encoded data removed]",
            "text/plain": [
              "<Figure size 432x288 with 2 Axes>"
            ]
          },
          "metadata": {
            "needs_background": "light"
          }
        }
      ]
    },
    {
      "cell_type": "code",
      "metadata": {
        "colab": {
          "base_uri": "https://localhost:8080/",
          "height": 504
        },
        "id": "UDYPbkl8yFbb",
        "outputId": "f7ea05ee-56f6-46c9-9aac-0588761e50c4"
      },
      "source": [
        "param_grid = [{\n",
        "    'C': np.logspace(-3, 0, 4)\n",
        "}]\n",
        "grid_cross_report(SVC(kernel='rbf', gamma='scale'), param_grid)"
      ],
      "execution_count": 82,
      "outputs": [
        {
          "output_type": "stream",
          "name": "stdout",
          "text": [
            "---\n",
            "Best parameters for SVC(C=1.0, break_ties=False, cache_size=200, class_weight=None, coef0=0.0,\n",
            "    decision_function_shape='ovr', degree=3, gamma='scale', kernel='rbf',\n",
            "    max_iter=-1, probability=False, random_state=None, shrinking=True,\n",
            "    tol=0.001, verbose=False) :\n",
            " {'C': 1.0} with f1 score 0.764\n",
            "Cross_val mean f1 score 0.779 with std 0.024\n",
            "Scores for the test sample :\n",
            " f1 : 0.799\n",
            " precision : 0.719\n",
            " recall : 0.898\n",
            "Confusion matrix for the test sample :\n"
          ]
        },
        {
          "output_type": "display_data",
          "data": {
            "image/png": "[encoded data removed]",
            "text/plain": [
              "<Figure size 432x288 with 2 Axes>"
            ]
          },
          "metadata": {
            "needs_background": "light"
          }
        }
      ]
    },
    {
      "cell_type": "code",
      "metadata": {
        "colab": {
          "base_uri": "https://localhost:8080/",
          "height": 595
        },
        "id": "EGPHn-ys1ka6",
        "outputId": "d4516f9a-b83a-4673-f7d5-7b330c4441f6"
      },
      "source": [
        "param_grid = [{\n",
        "    'C': np.logspace(-3, 0, 2),\n",
        "    'coef0': [0.0,0.1,2.,50.]\n",
        "}]\n",
        "grid_cross_report(SVC(kernel='sigmoid', gamma='scale'), param_grid)"
      ],
      "execution_count": 84,
      "outputs": [
        {
          "output_type": "stream",
          "name": "stdout",
          "text": [
            "---\n",
            "Best parameters for SVC(C=1.0, break_ties=False, cache_size=200, class_weight=None, coef0=0.0,\n",
            "    decision_function_shape='ovr', degree=3, gamma='scale', kernel='sigmoid',\n",
            "    max_iter=-1, probability=False, random_state=None, shrinking=True,\n",
            "    tol=0.001, verbose=False) :\n",
            " {'C': 0.001, 'coef0': 0.0} with f1 score 0.0\n",
            "Cross_val mean f1 score 0.0 with std 0.0\n"
          ]
        },
        {
          "output_type": "stream",
          "name": "stderr",
          "text": [
            "/usr/local/lib/python3.7/dist-packages/sklearn/metrics/_classification.py:1272: UndefinedMetricWarning:\n",
            "\n",
            "Precision is ill-defined and being set to 0.0 due to no predicted samples. Use `zero_division` parameter to control this behavior.\n",
            "\n"
          ]
        },
        {
          "output_type": "stream",
          "name": "stdout",
          "text": [
            "Scores for the test sample :\n",
            " f1 : 0.0\n",
            " precision : 0.0\n",
            " recall : 0.0\n",
            "Confusion matrix for the test sample :\n"
          ]
        },
        {
          "output_type": "display_data",
          "data": {
            "image/png": "[encoded data removed]",
            "text/plain": [
              "<Figure size 432x288 with 2 Axes>"
            ]
          },
          "metadata": {
            "needs_background": "light"
          }
        }
      ]
    },
    {
      "cell_type": "markdown",
      "metadata": {
        "id": "v-Eo2DmQ7E0L"
      },
      "source": [
        "## Gaussian Process\n",
        "https://scikit-learn.org/stable/modules/generated/sklearn.gaussian_process.GaussianProcessClassifier.html#sklearn.gaussian_process.GaussianProcessClassifier"
      ]
    },
    {
      "cell_type": "code",
      "metadata": {
        "colab": {
          "base_uri": "https://localhost:8080/",
          "height": 595
        },
        "id": "vI5kFN0Y7Z45",
        "outputId": "a477c0be-4dcc-4504-fd6d-67e9976c40bc"
      },
      "source": [
        "from sklearn.gaussian_process import GaussianProcessClassifier\n",
        "from sklearn.gaussian_process.kernels import RBF\n",
        "\n",
        "cross_report(GaussianProcessClassifier(1.0 * RBF(1.0)))"
      ],
      "execution_count": 87,
      "outputs": [
        {
          "output_type": "stream",
          "name": "stdout",
          "text": [
            "---\n",
            "GaussianProcessClassifier(copy_X_train=True, kernel=1**2 * RBF(length_scale=1),\n",
            "                          max_iter_predict=100, multi_class='one_vs_rest',\n",
            "                          n_jobs=None, n_restarts_optimizer=0,\n",
            "                          optimizer='fmin_l_bfgs_b', random_state=None,\n",
            "                          warm_start=False)\n",
            "Cross_val mean f1 score 0.0 with std 0.0\n"
          ]
        },
        {
          "output_type": "stream",
          "name": "stderr",
          "text": [
            "/usr/local/lib/python3.7/dist-packages/sklearn/metrics/_classification.py:1272: UndefinedMetricWarning:\n",
            "\n",
            "Precision is ill-defined and being set to 0.0 due to no predicted samples. Use `zero_division` parameter to control this behavior.\n",
            "\n"
          ]
        },
        {
          "output_type": "stream",
          "name": "stdout",
          "text": [
            "Scores for the test sample :\n",
            " f1 : 0.0\n",
            " precision : 0.0\n",
            " recall : 0.0\n",
            "Confusion matrix for the test sample :\n"
          ]
        },
        {
          "output_type": "display_data",
          "data": {
            "image/png": "[encoded data removed]",
            "text/plain": [
              "<Figure size 432x288 with 2 Axes>"
            ]
          },
          "metadata": {
            "needs_background": "light"
          }
        }
      ]
    },
    {
      "cell_type": "markdown",
      "metadata": {
        "id": "a1oytwjR9cB8"
      },
      "source": [
        "## Random Forest\n",
        "https://scikit-learn.org/stable/modules/generated/sklearn.ensemble.RandomForestClassifier.html#sklearn.ensemble.RandomForestClassifier"
      ]
    },
    {
      "cell_type": "code",
      "metadata": {
        "colab": {
          "base_uri": "https://localhost:8080/",
          "height": 575
        },
        "id": "bd1SaZLJ9d34",
        "outputId": "33fb5ba3-ca59-4a2a-c5dd-b5bb28945425"
      },
      "source": [
        "from sklearn.ensemble import RandomForestClassifier\n",
        "\n",
        "param_grid = [{\n",
        "    'min_samples_leaf': range(2,4,1),\n",
        "    'max_features': ['auto'],\n",
        "    'n_estimators': [100]\n",
        "}]\n",
        "grid_cross_report(RandomForestClassifier(), param_grid)"
      ],
      "execution_count": 88,
      "outputs": [
        {
          "output_type": "stream",
          "name": "stdout",
          "text": [
            "---\n",
            "Best parameters for RandomForestClassifier(bootstrap=True, ccp_alpha=0.0, class_weight=None,\n",
            "                       criterion='gini', max_depth=None, max_features='auto',\n",
            "                       max_leaf_nodes=None, max_samples=None,\n",
            "                       min_impurity_decrease=0.0, min_impurity_split=None,\n",
            "                       min_samples_leaf=1, min_samples_split=2,\n",
            "                       min_weight_fraction_leaf=0.0, n_estimators=100,\n",
            "                       n_jobs=None, oob_score=False, random_state=None,\n",
            "                       verbose=0, warm_start=False) :\n",
            " {'max_features': 'auto', 'min_samples_leaf': 3, 'n_estimators': 100} with f1 score 0.704\n",
            "Cross_val mean f1 score 0.702 with std 0.035\n",
            "Scores for the test sample :\n",
            " f1 : 0.772\n",
            " precision : 0.738\n",
            " recall : 0.809\n",
            "Confusion matrix for the test sample :\n"
          ]
        },
        {
          "output_type": "display_data",
          "data": {
            "image/png": "[encoded data removed]",
            "text/plain": [
              "<Figure size 432x288 with 2 Axes>"
            ]
          },
          "metadata": {
            "needs_background": "light"
          }
        }
      ]
    },
    {
      "cell_type": "markdown",
      "metadata": {
        "id": "_AK4tH8t-1KK"
      },
      "source": [
        "## Neural Net\n",
        "https://scikit-learn.org/stable/modules/generated/sklearn.neural_network.MLPClassifier.html#sklearn.neural_network.MLPClassifier"
      ]
    },
    {
      "cell_type": "code",
      "metadata": {
        "colab": {
          "base_uri": "https://localhost:8080/",
          "height": 575
        },
        "id": "ERh3M1AF_DBx",
        "outputId": "cafa5871-e5d4-4d55-fbb5-19c27b6ef02f"
      },
      "source": [
        "from sklearn.neural_network import MLPClassifier\n",
        "\n",
        "param_grid = [{\n",
        "    'alpha': np.logspace(-6, 0, 4)\n",
        "}]\n",
        "grid_cross_report(MLPClassifier(), param_grid)"
      ],
      "execution_count": 95,
      "outputs": [
        {
          "output_type": "stream",
          "name": "stdout",
          "text": [
            "---\n",
            "Best parameters for MLPClassifier(activation='relu', alpha=0.0001, batch_size='auto', beta_1=0.9,\n",
            "              beta_2=0.999, early_stopping=False, epsilon=1e-08,\n",
            "              hidden_layer_sizes=(100,), learning_rate='constant',\n",
            "              learning_rate_init=0.001, max_fun=15000, max_iter=200,\n",
            "              momentum=0.9, n_iter_no_change=10, nesterovs_momentum=True,\n",
            "              power_t=0.5, random_state=None, shuffle=True, solver='adam',\n",
            "              tol=0.0001, validation_fraction=0.1, verbose=False,\n",
            "              warm_start=False) :\n",
            " {'alpha': 1e-06} with f1 score 0.512\n",
            "Cross_val mean f1 score 0.47 with std 0.31\n",
            "Scores for the test sample :\n",
            " f1 : 0.675\n",
            " precision : 0.51\n",
            " recall : 1.0\n",
            "Confusion matrix for the test sample :\n"
          ]
        },
        {
          "output_type": "display_data",
          "data": {
            "image/png": "[encoded data removed]",
            "text/plain": [
              "<Figure size 432x288 with 2 Axes>"
            ]
          },
          "metadata": {
            "needs_background": "light"
          }
        }
      ]
    },
    {
      "cell_type": "code",
      "metadata": {
        "colab": {
          "base_uri": "https://localhost:8080/",
          "height": 390
        },
        "id": "q59SmvOmBVjd",
        "outputId": "e3acc8ca-c599-4db8-a030-4408151fcbcd"
      },
      "source": [
        "cl = MLPClassifier(alpha = 0.0001)\n",
        "cl.fit(X_train, y_train)\n",
        "y_pred = cl.predict(X_test)\n",
        "\n",
        "print(f'Scores for the test sample :\\n f1 : {round(f1_score(y_test, y_pred),3)}\\n precision : {round(precision_score(y_test, y_pred),3)}\\n recall : {round(recall_score(y_test, y_pred),3)}')\n",
        "\n",
        "print('Confusion matrix for the test sample :')\n",
        "cm = confusion_matrix(y_test, y_pred)\n",
        "ConfusionMatrixDisplay(confusion_matrix=cm, display_labels=['Iceberg','Boat']).plot()"
      ],
      "execution_count": 96,
      "outputs": [
        {
          "output_type": "stream",
          "name": "stdout",
          "text": [
            "Scores for the test sample :\n",
            " f1 : 0.657\n",
            " precision : 0.489\n",
            " recall : 1.0\n",
            "Confusion matrix for the test sample :\n"
          ]
        },
        {
          "output_type": "execute_result",
          "data": {
            "text/plain": [
              "<sklearn.metrics._plot.confusion_matrix.ConfusionMatrixDisplay at 0x7fcb1bb67a50>"
            ]
          },
          "metadata": {},
          "execution_count": 96
        },
        {
          "output_type": "display_data",
          "data": {
            "image/png": "[encoded data removed]",
            "text/plain": [
              "<Figure size 432x288 with 2 Axes>"
            ]
          },
          "metadata": {
            "needs_background": "light"
          }
        }
      ]
    },
    {
      "cell_type": "markdown",
      "metadata": {
        "id": "-ZNTHbkM-2-w"
      },
      "source": [
        "## AdaBoost\n",
        "https://scikit-learn.org/stable/modules/generated/sklearn.ensemble.AdaBoostClassifier.html#sklearn.ensemble.AdaBoostClassifier"
      ]
    },
    {
      "cell_type": "code",
      "metadata": {
        "colab": {
          "base_uri": "https://localhost:8080/",
          "height": 448
        },
        "id": "vi8xfvWJB7SM",
        "outputId": "cea4fdda-07e8-49ae-ad21-d5af3941bf8e"
      },
      "source": [
        "from sklearn.ensemble import AdaBoostClassifier\n",
        "\n",
        "cross_report(AdaBoostClassifier())"
      ],
      "execution_count": 97,
      "outputs": [
        {
          "output_type": "stream",
          "name": "stdout",
          "text": [
            "---\n",
            "AdaBoostClassifier(algorithm='SAMME.R', base_estimator=None, learning_rate=1.0,\n",
            "                   n_estimators=50, random_state=None)\n",
            "Cross_val mean f1 score 0.707 with std 0.05\n",
            "Scores for the test sample :\n",
            " f1 : 0.729\n",
            " precision : 0.691\n",
            " recall : 0.771\n",
            "Confusion matrix for the test sample :\n"
          ]
        },
        {
          "output_type": "display_data",
          "data": {
            "image/png": "[encoded data removed]",
            "text/plain": [
              "<Figure size 432x288 with 2 Axes>"
            ]
          },
          "metadata": {
            "needs_background": "light"
          }
        }
      ]
    },
    {
      "cell_type": "code",
      "metadata": {
        "colab": {
          "base_uri": "https://localhost:8080/",
          "height": 669
        },
        "id": "xY_EjTZHGyZd",
        "outputId": "523cdde0-4bb7-4e91-a442-de8f65d460ed"
      },
      "source": [
        "cross_report(AdaBoostClassifier(SVC(C=1., kernel='rbf', gamma='scale'), algorithm='SAMME'))"
      ],
      "execution_count": 99,
      "outputs": [
        {
          "output_type": "stream",
          "name": "stdout",
          "text": [
            "---\n",
            "AdaBoostClassifier(algorithm='SAMME',\n",
            "                   base_estimator=SVC(C=1.0, break_ties=False, cache_size=200,\n",
            "                                      class_weight=None, coef0=0.0,\n",
            "                                      decision_function_shape='ovr', degree=3,\n",
            "                                      gamma='scale', kernel='rbf', max_iter=-1,\n",
            "                                      probability=False, random_state=None,\n",
            "                                      shrinking=True, tol=0.001,\n",
            "                                      verbose=False),\n",
            "                   learning_rate=1.0, n_estimators=50, random_state=None)\n",
            "Cross_val mean f1 score 0.0 with std 0.0\n"
          ]
        },
        {
          "output_type": "stream",
          "name": "stderr",
          "text": [
            "/usr/local/lib/python3.7/dist-packages/sklearn/metrics/_classification.py:1272: UndefinedMetricWarning:\n",
            "\n",
            "Precision is ill-defined and being set to 0.0 due to no predicted samples. Use `zero_division` parameter to control this behavior.\n",
            "\n"
          ]
        },
        {
          "output_type": "stream",
          "name": "stdout",
          "text": [
            "Scores for the test sample :\n",
            " f1 : 0.0\n",
            " precision : 0.0\n",
            " recall : 0.0\n",
            "Confusion matrix for the test sample :\n"
          ]
        },
        {
          "output_type": "display_data",
          "data": {
            "image/png": "[encoded data removed]",
            "text/plain": [
              "<Figure size 432x288 with 2 Axes>"
            ]
          },
          "metadata": {
            "needs_background": "light"
          }
        }
      ]
    },
    {
      "cell_type": "code",
      "metadata": {
        "colab": {
          "base_uri": "https://localhost:8080/",
          "height": 797
        },
        "id": "i9E2IBqDZplF",
        "outputId": "5e7de6c1-0193-47ed-c90d-1cf028d7321e"
      },
      "source": [
        "cross_report(AdaBoostClassifier(RandomForestClassifier(min_samples_leaf=3)))"
      ],
      "execution_count": 101,
      "outputs": [
        {
          "output_type": "stream",
          "name": "stdout",
          "text": [
            "---\n",
            "AdaBoostClassifier(algorithm='SAMME.R',\n",
            "                   base_estimator=RandomForestClassifier(bootstrap=True,\n",
            "                                                         ccp_alpha=0.0,\n",
            "                                                         class_weight=None,\n",
            "                                                         criterion='gini',\n",
            "                                                         max_depth=None,\n",
            "                                                         max_features='auto',\n",
            "                                                         max_leaf_nodes=None,\n",
            "                                                         max_samples=None,\n",
            "                                                         min_impurity_decrease=0.0,\n",
            "                                                         min_impurity_split=None,\n",
            "                                                         min_samples_leaf=3,\n",
            "                                                         min_samples_split=2,\n",
            "                                                         min_weight_fraction_leaf=0.0,\n",
            "                                                         n_estimators=100,\n",
            "                                                         n_jobs=None,\n",
            "                                                         oob_score=False,\n",
            "                                                         random_state=None,\n",
            "                                                         verbose=0,\n",
            "                                                         warm_start=False),\n",
            "                   learning_rate=1.0, n_estimators=50, random_state=None)\n",
            "Cross_val mean f1 score 0.704 with std 0.038\n",
            "Scores for the test sample :\n",
            " f1 : 0.761\n",
            " precision : 0.724\n",
            " recall : 0.803\n",
            "Confusion matrix for the test sample :\n"
          ]
        },
        {
          "output_type": "display_data",
          "data": {
            "image/png": "[encoded data removed]",
            "text/plain": [
              "<Figure size 432x288 with 2 Axes>"
            ]
          },
          "metadata": {
            "needs_background": "light"
          }
        }
      ]
    },
    {
      "cell_type": "markdown",
      "metadata": {
        "id": "WscaUC9Ga46o"
      },
      "source": [
        "## Naive Bayes\n",
        "https://scikit-learn.org/stable/modules/generated/sklearn.naive_bayes.GaussianNB.html#sklearn.naive_bayes.GaussianNB"
      ]
    },
    {
      "cell_type": "code",
      "metadata": {
        "colab": {
          "base_uri": "https://localhost:8080/",
          "height": 427
        },
        "id": "FZR8iEVPa-gM",
        "outputId": "e0401cc8-9668-4a3e-dec3-422f88f3e07d"
      },
      "source": [
        "from sklearn.naive_bayes import GaussianNB\n",
        "\n",
        "cross_report(GaussianNB())"
      ],
      "execution_count": 103,
      "outputs": [
        {
          "output_type": "stream",
          "name": "stdout",
          "text": [
            "---\n",
            "GaussianNB(priors=None, var_smoothing=1e-09)\n",
            "Cross_val mean f1 score 0.672 with std 0.052\n",
            "Scores for the test sample :\n",
            " f1 : 0.668\n",
            " precision : 0.579\n",
            " recall : 0.79\n",
            "Confusion matrix for the test sample :\n"
          ]
        },
        {
          "output_type": "display_data",
          "data": {
            "image/png": "[encoded data removed]",
            "text/plain": [
              "<Figure size 432x288 with 2 Axes>"
            ]
          },
          "metadata": {
            "needs_background": "light"
          }
        }
      ]
    },
    {
      "cell_type": "markdown",
      "metadata": {
        "id": "nOlh0NU5bZUa"
      },
      "source": [
        "## QDA\n",
        "https://scikit-learn.org/stable/modules/generated/sklearn.discriminant_analysis.QuadraticDiscriminantAnalysis.html#sklearn.discriminant_analysis.QuadraticDiscriminantAnalysis"
      ]
    },
    {
      "cell_type": "code",
      "metadata": {
        "colab": {
          "base_uri": "https://localhost:8080/",
          "height": 1000
        },
        "id": "DCYbBf-Rbc3I",
        "outputId": "e25c4c34-976b-4841-c6b4-6f3dfaf013f0"
      },
      "source": [
        "from sklearn.discriminant_analysis import QuadraticDiscriminantAnalysis\n",
        "\n",
        "param_grid = [{\n",
        "    'reg_param': np.linspace(0.0,1.0,4)\n",
        "}]\n",
        "grid_cross_report(QuadraticDiscriminantAnalysis(), param_grid)"
      ],
      "execution_count": 110,
      "outputs": [
        {
          "output_type": "stream",
          "name": "stderr",
          "text": [
            "/usr/local/lib/python3.7/dist-packages/sklearn/discriminant_analysis.py:691: UserWarning:\n",
            "\n",
            "Variables are collinear\n",
            "\n",
            "/usr/local/lib/python3.7/dist-packages/sklearn/discriminant_analysis.py:691: UserWarning:\n",
            "\n",
            "Variables are collinear\n",
            "\n",
            "/usr/local/lib/python3.7/dist-packages/sklearn/discriminant_analysis.py:691: UserWarning:\n",
            "\n",
            "Variables are collinear\n",
            "\n",
            "/usr/local/lib/python3.7/dist-packages/sklearn/discriminant_analysis.py:691: UserWarning:\n",
            "\n",
            "Variables are collinear\n",
            "\n",
            "/usr/local/lib/python3.7/dist-packages/sklearn/discriminant_analysis.py:691: UserWarning:\n",
            "\n",
            "Variables are collinear\n",
            "\n",
            "/usr/local/lib/python3.7/dist-packages/sklearn/discriminant_analysis.py:691: UserWarning:\n",
            "\n",
            "Variables are collinear\n",
            "\n",
            "/usr/local/lib/python3.7/dist-packages/sklearn/discriminant_analysis.py:691: UserWarning:\n",
            "\n",
            "Variables are collinear\n",
            "\n",
            "/usr/local/lib/python3.7/dist-packages/sklearn/discriminant_analysis.py:691: UserWarning:\n",
            "\n",
            "Variables are collinear\n",
            "\n",
            "/usr/local/lib/python3.7/dist-packages/sklearn/discriminant_analysis.py:691: UserWarning:\n",
            "\n",
            "Variables are collinear\n",
            "\n",
            "/usr/local/lib/python3.7/dist-packages/sklearn/discriminant_analysis.py:691: UserWarning:\n",
            "\n",
            "Variables are collinear\n",
            "\n",
            "/usr/local/lib/python3.7/dist-packages/sklearn/discriminant_analysis.py:691: UserWarning:\n",
            "\n",
            "Variables are collinear\n",
            "\n",
            "/usr/local/lib/python3.7/dist-packages/sklearn/discriminant_analysis.py:691: UserWarning:\n",
            "\n",
            "Variables are collinear\n",
            "\n",
            "/usr/local/lib/python3.7/dist-packages/sklearn/discriminant_analysis.py:691: UserWarning:\n",
            "\n",
            "Variables are collinear\n",
            "\n",
            "/usr/local/lib/python3.7/dist-packages/sklearn/discriminant_analysis.py:691: UserWarning:\n",
            "\n",
            "Variables are collinear\n",
            "\n",
            "/usr/local/lib/python3.7/dist-packages/sklearn/discriminant_analysis.py:691: UserWarning:\n",
            "\n",
            "Variables are collinear\n",
            "\n",
            "/usr/local/lib/python3.7/dist-packages/sklearn/discriminant_analysis.py:691: UserWarning:\n",
            "\n",
            "Variables are collinear\n",
            "\n",
            "/usr/local/lib/python3.7/dist-packages/sklearn/discriminant_analysis.py:691: UserWarning:\n",
            "\n",
            "Variables are collinear\n",
            "\n",
            "/usr/local/lib/python3.7/dist-packages/sklearn/discriminant_analysis.py:691: UserWarning:\n",
            "\n",
            "Variables are collinear\n",
            "\n",
            "/usr/local/lib/python3.7/dist-packages/sklearn/discriminant_analysis.py:691: UserWarning:\n",
            "\n",
            "Variables are collinear\n",
            "\n",
            "/usr/local/lib/python3.7/dist-packages/sklearn/discriminant_analysis.py:691: UserWarning:\n",
            "\n",
            "Variables are collinear\n",
            "\n",
            "/usr/local/lib/python3.7/dist-packages/sklearn/discriminant_analysis.py:691: UserWarning:\n",
            "\n",
            "Variables are collinear\n",
            "\n"
          ]
        },
        {
          "output_type": "stream",
          "name": "stdout",
          "text": [
            "---\n",
            "Best parameters for QuadraticDiscriminantAnalysis(priors=None, reg_param=0.0,\n",
            "                              store_covariance=False, tol=0.0001) :\n",
            " {'reg_param': 0.6666666666666666} with f1 score 0.662\n"
          ]
        },
        {
          "output_type": "stream",
          "name": "stderr",
          "text": [
            "/usr/local/lib/python3.7/dist-packages/sklearn/discriminant_analysis.py:691: UserWarning:\n",
            "\n",
            "Variables are collinear\n",
            "\n",
            "/usr/local/lib/python3.7/dist-packages/sklearn/discriminant_analysis.py:691: UserWarning:\n",
            "\n",
            "Variables are collinear\n",
            "\n",
            "/usr/local/lib/python3.7/dist-packages/sklearn/discriminant_analysis.py:691: UserWarning:\n",
            "\n",
            "Variables are collinear\n",
            "\n",
            "/usr/local/lib/python3.7/dist-packages/sklearn/discriminant_analysis.py:691: UserWarning:\n",
            "\n",
            "Variables are collinear\n",
            "\n",
            "/usr/local/lib/python3.7/dist-packages/sklearn/discriminant_analysis.py:691: UserWarning:\n",
            "\n",
            "Variables are collinear\n",
            "\n",
            "/usr/local/lib/python3.7/dist-packages/sklearn/discriminant_analysis.py:691: UserWarning:\n",
            "\n",
            "Variables are collinear\n",
            "\n",
            "/usr/local/lib/python3.7/dist-packages/sklearn/discriminant_analysis.py:691: UserWarning:\n",
            "\n",
            "Variables are collinear\n",
            "\n",
            "/usr/local/lib/python3.7/dist-packages/sklearn/discriminant_analysis.py:691: UserWarning:\n",
            "\n",
            "Variables are collinear\n",
            "\n",
            "/usr/local/lib/python3.7/dist-packages/sklearn/discriminant_analysis.py:691: UserWarning:\n",
            "\n",
            "Variables are collinear\n",
            "\n",
            "/usr/local/lib/python3.7/dist-packages/sklearn/discriminant_analysis.py:691: UserWarning:\n",
            "\n",
            "Variables are collinear\n",
            "\n"
          ]
        },
        {
          "output_type": "stream",
          "name": "stdout",
          "text": [
            "Cross_val mean f1 score 0.665 with std 0.007\n",
            "Scores for the test sample :\n",
            " f1 : 0.686\n",
            " precision : 0.522\n",
            " recall : 1.0\n",
            "Confusion matrix for the test sample :\n"
          ]
        },
        {
          "output_type": "display_data",
          "data": {
            "image/png": "[encoded data removed]",
            "text/plain": [
              "<Figure size 432x288 with 2 Axes>"
            ]
          },
          "metadata": {
            "needs_background": "light"
          }
        }
      ]
    },
    {
      "cell_type": "markdown",
      "metadata": {
        "id": "s--WiRGZWUuR"
      },
      "source": [
        "# Results\n"
      ]
    },
    {
      "cell_type": "markdown",
      "metadata": {
        "id": "ZgFVMlakWetP"
      },
      "source": [
        "## Naive approach"
      ]
    },
    {
      "cell_type": "markdown",
      "metadata": {
        "id": "WIotWXqaWhs4"
      },
      "source": [
        "For the Naive approach, the classifiers were ran on the raw data, comprised of the 2 bands of 75*75 pixels.\n",
        "\n",
        "The best results were reached for the C-Support Vector algorithm (RBF kernel, C=1.0), with a cross-validation mean f1 score of 0.779 and a standard deviation of 0.024. Nonetheless, the test results showed low precision and a high recall, while high precision is preferable. Optimization should also be done on precision, as one might imagine that mis-identifying an iceberg is more dangerous than mis-identifying boat. The linear kernel might offer better precision than the RBF one.\n",
        "\n",
        "The second best results were found for the K Nearest Neighbors algorithm (8 neighbors), with a cross-validation mean f1 score of 0.719 and a standard deviation of 0.052.\n",
        "\n",
        "AdaBoost with the Decision Tree classifier showed satisfying results with a cross-validation mean f1 score of 0.707 and a standard deviation of 0.050.\n",
        "\n",
        "The Random Forest showed satisfying results with a cross-validation mean f1 score of 0.702 and a standard deviation of 0.035, changing to 0.704 and 0.038 with AdaBoost.\n",
        "\n",
        "The Decision Tree and Naive Bayes showed poor performance for the tested parameters.\n",
        "\n",
        "The Gaussian Process, Neural Net and QDA showed very poor performances for the tested parameters."
      ]
    }
  ]
}