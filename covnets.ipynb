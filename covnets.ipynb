{
  "nbformat": 4,
  "nbformat_minor": 0,
  "metadata": {
    "colab": {
      "name": "covnets.ipynb",
      "provenance": [],
      "collapsed_sections": [],
      "toc_visible": true
    },
    "kernelspec": {
      "name": "python3",
      "display_name": "Python 3"
    },
    "language_info": {
      "name": "python"
    },
    "accelerator": "GPU"
  },
  "cells": [
    {
      "cell_type": "markdown",
      "metadata": {
        "id": "20XPE39MfBT6"
      },
      "source": [
        "# Loading the dataset and importing libraries\n"
      ]
    },
    {
      "cell_type": "markdown",
      "metadata": {
        "id": "4PD1_lK7gPzw"
      },
      "source": [
        "Before running this notebook, we recommand you to activate the colaboratory GPU accelerator to increase the calculations performances."
      ]
    },
    {
      "cell_type": "code",
      "metadata": {
        "id": "1QHWsW2LeWIN"
      },
      "source": [
        "import pandas as pd\n",
        "import json\n",
        "import numpy as np\n",
        "from sklearn.preprocessing import scale, normalize, StandardScaler\n",
        "from app import EvaluateAndReport, add_features, plot_features, to_RGB, get_distrib\n",
        "\n",
        "# Importing Keras library from Tensorflow\n",
        "import tensorflow as tf\n",
        "from tensorflow import keras\n",
        "from tensorflow.keras import layers\n",
        "from tensorflow.keras.layers.experimental import preprocessing\n",
        "from tensorflow.keras.callbacks import EarlyStopping\n",
        "from keras.layers.merge import Concatenate"
      ],
      "execution_count": 3,
      "outputs": []
    },
    {
      "cell_type": "code",
      "metadata": {
        "colab": {
          "base_uri": "https://localhost:8080/",
          "height": 306
        },
        "id": "IUNCfH5Qf8Of",
        "outputId": "b65ed336-7632-482b-84c4-10f9f7ec5321"
      },
      "source": [
        "# Import Google Drive\n",
        "from google.colab import drive\n",
        "drive.mount('/content/drive')\n",
        "\n",
        "#returns JSON object as a dictionary\n",
        "f = open('/content/drive/MyDrive/Iceberg/train.json',) # The train.json file needs to be in an \"Iceberg\" directory\n",
        "\n",
        "# creating a dataframe\n",
        "df_raw = pd.DataFrame(json.load(f))\n",
        "\n",
        "# visualising the first rows\n",
        "df_raw.head()"
      ],
      "execution_count": 4,
      "outputs": [
        {
          "output_type": "stream",
          "name": "stdout",
          "text": [
            "Mounted at /content/drive\n"
          ]
        },
        {
          "output_type": "execute_result",
          "data": {
            "text/html": [
              "<div>\n",
              "<style scoped>\n",
              "    .dataframe tbody tr th:only-of-type {\n",
              "        vertical-align: middle;\n",
              "    }\n",
              "\n",
              "    .dataframe tbody tr th {\n",
              "        vertical-align: top;\n",
              "    }\n",
              "\n",
              "    .dataframe thead th {\n",
              "        text-align: right;\n",
              "    }\n",
              "</style>\n",
              "<table border=\"1\" class=\"dataframe\">\n",
              "  <thead>\n",
              "    <tr style=\"text-align: right;\">\n",
              "      <th></th>\n",
              "      <th>id</th>\n",
              "      <th>band_1</th>\n",
              "      <th>band_2</th>\n",
              "      <th>inc_angle</th>\n",
              "      <th>is_iceberg</th>\n",
              "    </tr>\n",
              "  </thead>\n",
              "  <tbody>\n",
              "    <tr>\n",
              "      <th>0</th>\n",
              "      <td>dfd5f913</td>\n",
              "      <td>[-27.878361, -27.15416, -28.668615, -29.537971...</td>\n",
              "      <td>[-27.154118, -29.537888, -31.0306, -32.190483,...</td>\n",
              "      <td>43.9239</td>\n",
              "      <td>0</td>\n",
              "    </tr>\n",
              "    <tr>\n",
              "      <th>1</th>\n",
              "      <td>e25388fd</td>\n",
              "      <td>[-12.242375, -14.920305, -14.920363, -12.66633...</td>\n",
              "      <td>[-31.506321, -27.984554, -26.645678, -23.76760...</td>\n",
              "      <td>38.1562</td>\n",
              "      <td>0</td>\n",
              "    </tr>\n",
              "    <tr>\n",
              "      <th>2</th>\n",
              "      <td>58b2aaa0</td>\n",
              "      <td>[-24.603676, -24.603714, -24.871029, -23.15277...</td>\n",
              "      <td>[-24.870956, -24.092632, -20.653963, -19.41104...</td>\n",
              "      <td>45.2859</td>\n",
              "      <td>1</td>\n",
              "    </tr>\n",
              "    <tr>\n",
              "      <th>3</th>\n",
              "      <td>4cfc3a18</td>\n",
              "      <td>[-22.454607, -23.082819, -23.998013, -23.99805...</td>\n",
              "      <td>[-27.889421, -27.519794, -27.165262, -29.10350...</td>\n",
              "      <td>43.8306</td>\n",
              "      <td>0</td>\n",
              "    </tr>\n",
              "    <tr>\n",
              "      <th>4</th>\n",
              "      <td>271f93f4</td>\n",
              "      <td>[-26.006956, -23.164886, -23.164886, -26.89116...</td>\n",
              "      <td>[-27.206915, -30.259186, -30.259186, -23.16495...</td>\n",
              "      <td>35.6256</td>\n",
              "      <td>0</td>\n",
              "    </tr>\n",
              "  </tbody>\n",
              "</table>\n",
              "</div>"
            ],
            "text/plain": [
              "         id  ... is_iceberg\n",
              "0  dfd5f913  ...          0\n",
              "1  e25388fd  ...          0\n",
              "2  58b2aaa0  ...          1\n",
              "3  4cfc3a18  ...          0\n",
              "4  271f93f4  ...          0\n",
              "\n",
              "[5 rows x 5 columns]"
            ]
          },
          "metadata": {},
          "execution_count": 4
        }
      ]
    },
    {
      "cell_type": "code",
      "metadata": {
        "colab": {
          "base_uri": "https://localhost:8080/"
        },
        "id": "cx_wK_bmgf8G",
        "outputId": "6969fcd9-cde1-4a15-f9e2-e9c8e3c15bae"
      },
      "source": [
        "# Visualising info\n",
        "print(df_raw.info())"
      ],
      "execution_count": 5,
      "outputs": [
        {
          "output_type": "stream",
          "name": "stdout",
          "text": [
            "<class 'pandas.core.frame.DataFrame'>\n",
            "RangeIndex: 1604 entries, 0 to 1603\n",
            "Data columns (total 5 columns):\n",
            " #   Column      Non-Null Count  Dtype \n",
            "---  ------      --------------  ----- \n",
            " 0   id          1604 non-null   object\n",
            " 1   band_1      1604 non-null   object\n",
            " 2   band_2      1604 non-null   object\n",
            " 3   inc_angle   1604 non-null   object\n",
            " 4   is_iceberg  1604 non-null   int64 \n",
            "dtypes: int64(1), object(4)\n",
            "memory usage: 62.8+ KB\n",
            "None\n"
          ]
        }
      ]
    },
    {
      "cell_type": "code",
      "metadata": {
        "id": "QoGJ2iaNgjYu"
      },
      "source": [
        "# Train/test split\n",
        "df = df_raw.sample(frac = 0.8, random_state = 42)\n",
        "df_test = df_raw.drop(df.index)"
      ],
      "execution_count": 6,
      "outputs": []
    },
    {
      "cell_type": "code",
      "metadata": {
        "colab": {
          "base_uri": "https://localhost:8080/"
        },
        "id": "H88A_O9Ugm2W",
        "outputId": "11d3ce78-3a0d-4175-b774-950538f5260a"
      },
      "source": [
        "# Changing inc_angle from object to float64\n",
        "df.replace('na', np.NaN, inplace = True) # Replacing the 'na' text in inc_angle by NaN\n",
        "df['inc_angle'].astype('float', copy = False) # Casting inc_angle to float works with the NaN\n",
        "df[df.inc_angle.isna()] # 133 NaN\n",
        "print(df.info()) # inc_angle is now float64"
      ],
      "execution_count": 7,
      "outputs": [
        {
          "output_type": "stream",
          "name": "stdout",
          "text": [
            "<class 'pandas.core.frame.DataFrame'>\n",
            "Int64Index: 1283 entries, 530 to 546\n",
            "Data columns (total 5 columns):\n",
            " #   Column      Non-Null Count  Dtype  \n",
            "---  ------      --------------  -----  \n",
            " 0   id          1283 non-null   object \n",
            " 1   band_1      1283 non-null   object \n",
            " 2   band_2      1283 non-null   object \n",
            " 3   inc_angle   1175 non-null   float64\n",
            " 4   is_iceberg  1283 non-null   int64  \n",
            "dtypes: float64(1), int64(1), object(3)\n",
            "memory usage: 60.1+ KB\n",
            "None\n"
          ]
        }
      ]
    },
    {
      "cell_type": "markdown",
      "metadata": {
        "id": "u2JbnkmhhPmi"
      },
      "source": [
        "# Creating the train dataset"
      ]
    },
    {
      "cell_type": "code",
      "metadata": {
        "id": "zemDuCOMhVeK"
      },
      "source": [
        "X_b1=np.array(\n",
        "    [np.array(band).astype(np.float64).reshape(75, 75) for band in df[\"band_1\"]]\n",
        "    )\n",
        "\n",
        "X_b2=np.array(\n",
        "    [np.array(band).astype(np.float64).reshape(75, 75) for band in df[\"band_2\"]]\n",
        "    )\n",
        "\n",
        "X_train = np.concatenate([X_b1[:, :, :, np.newaxis], X_b2[:, :, :, np.newaxis]], axis=-1)"
      ],
      "execution_count": 11,
      "outputs": []
    },
    {
      "cell_type": "code",
      "metadata": {
        "id": "XAjqtTLmnLiz"
      },
      "source": [
        "target_train=df['is_iceberg']"
      ],
      "execution_count": 12,
      "outputs": []
    },
    {
      "cell_type": "markdown",
      "metadata": {
        "id": "5ES-J4SPiTIN"
      },
      "source": [
        "# Défintion des couches"
      ]
    },
    {
      "cell_type": "code",
      "metadata": {
        "id": "4BXD9d5Lh-v8"
      },
      "source": [
        "model = keras.Sequential([\n",
        "    # Pretraitement, 'data augmentation'\n",
        "    preprocessing.RandomFlip('horizontal'), # flip gauche-à-droite\n",
        "\n",
        "    ########################\n",
        "    ## CONVOLUTIONAL BASE ##\n",
        "    ########################\n",
        "\n",
        "    # Premier block avec conv2D et MaxPooling\n",
        "    layers.Conv2D(filters=32, kernel_size=5, activation=\"relu\", padding='same', input_shape=[75, 75, 2]),\n",
        "    layers.MaxPool2D(),\n",
        "    layers.Dropout(0.3),\n",
        "\n",
        "    # Deuxième block \n",
        "    layers.Conv2D(filters=64, kernel_size=3, activation='relu', padding='same'),\n",
        "    layers.MaxPool2D(),\n",
        "    layers.Dropout(0.2),\n",
        "\n",
        "    # Troisième block\n",
        "    layers.Conv2D(filters=128, kernel_size=3, activation=\"relu\", padding='same'),\n",
        "    layers.Conv2D(filters=128, kernel_size=3, activation=\"relu\", padding='same'),\n",
        "    layers.MaxPool2D(),\n",
        "    layers.Dropout(0.1),\n",
        "\n",
        "    # Quatrième block \n",
        "    layers.Conv2D(filters=256, kernel_size=3, activation='relu', padding='same'),\n",
        "    layers.Conv2D(filters=256, kernel_size=3, activation=\"relu\", padding='same'),\n",
        "    layers.MaxPool2D(),\n",
        "    layers.Dropout(0.1),\n",
        "\n",
        "    # Applatissement des données les couches denses\n",
        "    layers.Flatten(),\n",
        "\n",
        "    ########################\n",
        "    ##    DENSE HEAD      ##\n",
        "    ########################\n",
        "\n",
        "    layers.Dense(512, activation='relu'),\n",
        "    layers.BatchNormalization(),\n",
        "    layers.Dense(256, activation='relu'),\n",
        "    # Activation Sigmoid pour le classifier\n",
        "    layers.Dense(1, activation=\"sigmoid\")\n",
        "])\n",
        "\n",
        "model.compile(\n",
        "    optimizer=tf.keras.optimizers.Adam(epsilon=0.01),\n",
        "    loss='binary_crossentropy',\n",
        "    metrics=['binary_accuracy']\n",
        ")\n",
        "\n",
        "# Pour éviter de l'overfitting \n",
        "early_stopping = EarlyStopping(\n",
        "    min_delta=0.001, # minimium amount of change to count as an improvement\n",
        "    patience=30, # how many epochs to wait before stopping\n",
        "    restore_best_weights=True,\n",
        ")"
      ],
      "execution_count": 36,
      "outputs": []
    },
    {
      "cell_type": "code",
      "metadata": {
        "id": "efCGvmC5nYGg"
      },
      "source": [
        "from sklearn.model_selection import train_test_split\n",
        "\n",
        "X_train_cv, X_valid, y_train_cv, y_valid = train_test_split(X_train, target_train, random_state=42, train_size=0.75)"
      ],
      "execution_count": 37,
      "outputs": []
    },
    {
      "cell_type": "markdown",
      "metadata": {
        "id": "xVRraPIpnov4"
      },
      "source": [
        "# Entrainement du modèle"
      ]
    },
    {
      "cell_type": "code",
      "metadata": {
        "colab": {
          "base_uri": "https://localhost:8080/"
        },
        "id": "Wx5UL78nnnqe",
        "outputId": "5a3cba76-fa02-4d2b-ceff-180015359f5d"
      },
      "source": [
        "history = model.fit(\n",
        "    X_train_cv, y_train_cv,\n",
        "    validation_data=(X_valid, y_valid),\n",
        "    batch_size=20,\n",
        "    epochs=100,\n",
        "    callbacks=[early_stopping],\n",
        ")"
      ],
      "execution_count": 38,
      "outputs": [
        {
          "output_type": "stream",
          "name": "stdout",
          "text": [
            "Epoch 1/100\n",
            "49/49 [==============================] - 4s 41ms/step - loss: 0.7499 - binary_accuracy: 0.5301 - val_loss: 1.1114 - val_binary_accuracy: 0.4891\n",
            "Epoch 2/100\n",
            "49/49 [==============================] - 2s 32ms/step - loss: 0.7296 - binary_accuracy: 0.5229 - val_loss: 0.9556 - val_binary_accuracy: 0.4891\n",
            "Epoch 3/100\n",
            "49/49 [==============================] - 2s 32ms/step - loss: 0.6933 - binary_accuracy: 0.5613 - val_loss: 0.7186 - val_binary_accuracy: 0.5327\n",
            "Epoch 4/100\n",
            "49/49 [==============================] - 2s 32ms/step - loss: 0.7031 - binary_accuracy: 0.5582 - val_loss: 0.7693 - val_binary_accuracy: 0.5826\n",
            "Epoch 5/100\n",
            "49/49 [==============================] - 2s 32ms/step - loss: 0.6923 - binary_accuracy: 0.5624 - val_loss: 0.8894 - val_binary_accuracy: 0.5888\n",
            "Epoch 6/100\n",
            "49/49 [==============================] - 2s 31ms/step - loss: 0.6987 - binary_accuracy: 0.5561 - val_loss: 1.0060 - val_binary_accuracy: 0.5047\n",
            "Epoch 7/100\n",
            "49/49 [==============================] - 2s 32ms/step - loss: 0.6752 - binary_accuracy: 0.5904 - val_loss: 0.9682 - val_binary_accuracy: 0.5109\n",
            "Epoch 8/100\n",
            "49/49 [==============================] - 2s 32ms/step - loss: 0.6844 - binary_accuracy: 0.5780 - val_loss: 0.7799 - val_binary_accuracy: 0.5078\n",
            "Epoch 9/100\n",
            "49/49 [==============================] - 2s 32ms/step - loss: 0.6801 - binary_accuracy: 0.5655 - val_loss: 0.7135 - val_binary_accuracy: 0.5296\n",
            "Epoch 10/100\n",
            "49/49 [==============================] - 2s 35ms/step - loss: 0.6861 - binary_accuracy: 0.5696 - val_loss: 1.2205 - val_binary_accuracy: 0.5109\n",
            "Epoch 11/100\n",
            "49/49 [==============================] - 2s 32ms/step - loss: 0.6722 - binary_accuracy: 0.6029 - val_loss: 0.7031 - val_binary_accuracy: 0.5483\n",
            "Epoch 12/100\n",
            "49/49 [==============================] - 2s 32ms/step - loss: 0.6679 - binary_accuracy: 0.5977 - val_loss: 0.8192 - val_binary_accuracy: 0.4953\n",
            "Epoch 13/100\n",
            "49/49 [==============================] - 2s 31ms/step - loss: 0.6416 - binary_accuracy: 0.6247 - val_loss: 0.7128 - val_binary_accuracy: 0.5234\n",
            "Epoch 14/100\n",
            "49/49 [==============================] - 2s 32ms/step - loss: 0.6423 - binary_accuracy: 0.6195 - val_loss: 0.8223 - val_binary_accuracy: 0.5047\n",
            "Epoch 15/100\n",
            "49/49 [==============================] - 2s 32ms/step - loss: 0.6380 - binary_accuracy: 0.6289 - val_loss: 0.8288 - val_binary_accuracy: 0.5109\n",
            "Epoch 16/100\n",
            "49/49 [==============================] - 2s 32ms/step - loss: 0.6113 - binary_accuracy: 0.6684 - val_loss: 1.5877 - val_binary_accuracy: 0.5109\n",
            "Epoch 17/100\n",
            "49/49 [==============================] - 2s 35ms/step - loss: 0.5935 - binary_accuracy: 0.6642 - val_loss: 1.2103 - val_binary_accuracy: 0.5109\n",
            "Epoch 18/100\n",
            "49/49 [==============================] - 2s 32ms/step - loss: 0.5304 - binary_accuracy: 0.7370 - val_loss: 1.1386 - val_binary_accuracy: 0.5109\n",
            "Epoch 19/100\n",
            "49/49 [==============================] - 2s 32ms/step - loss: 0.5169 - binary_accuracy: 0.7079 - val_loss: 1.2159 - val_binary_accuracy: 0.5109\n",
            "Epoch 20/100\n",
            "49/49 [==============================] - 2s 32ms/step - loss: 0.5144 - binary_accuracy: 0.7162 - val_loss: 0.7689 - val_binary_accuracy: 0.5109\n",
            "Epoch 21/100\n",
            "49/49 [==============================] - 2s 32ms/step - loss: 0.5791 - binary_accuracy: 0.6767 - val_loss: 0.7508 - val_binary_accuracy: 0.5109\n",
            "Epoch 22/100\n",
            "49/49 [==============================] - 2s 35ms/step - loss: 0.4890 - binary_accuracy: 0.7557 - val_loss: 0.9824 - val_binary_accuracy: 0.5109\n",
            "Epoch 23/100\n",
            "49/49 [==============================] - 2s 32ms/step - loss: 0.4699 - binary_accuracy: 0.7599 - val_loss: 0.9213 - val_binary_accuracy: 0.5109\n",
            "Epoch 24/100\n",
            "49/49 [==============================] - 2s 32ms/step - loss: 0.4491 - binary_accuracy: 0.7796 - val_loss: 1.1987 - val_binary_accuracy: 0.5109\n",
            "Epoch 25/100\n",
            "49/49 [==============================] - 2s 32ms/step - loss: 0.4661 - binary_accuracy: 0.7640 - val_loss: 1.3172 - val_binary_accuracy: 0.5109\n",
            "Epoch 26/100\n",
            "49/49 [==============================] - 2s 32ms/step - loss: 0.4431 - binary_accuracy: 0.7796 - val_loss: 0.9170 - val_binary_accuracy: 0.5109\n",
            "Epoch 27/100\n",
            "49/49 [==============================] - 2s 32ms/step - loss: 0.4204 - binary_accuracy: 0.7890 - val_loss: 1.2060 - val_binary_accuracy: 0.5109\n",
            "Epoch 28/100\n",
            "49/49 [==============================] - 2s 32ms/step - loss: 0.4450 - binary_accuracy: 0.7838 - val_loss: 1.0391 - val_binary_accuracy: 0.5109\n",
            "Epoch 29/100\n",
            "49/49 [==============================] - 2s 32ms/step - loss: 0.4109 - binary_accuracy: 0.8004 - val_loss: 0.8659 - val_binary_accuracy: 0.5265\n",
            "Epoch 30/100\n",
            "49/49 [==============================] - 2s 33ms/step - loss: 0.4407 - binary_accuracy: 0.7931 - val_loss: 0.5621 - val_binary_accuracy: 0.6044\n",
            "Epoch 31/100\n",
            "49/49 [==============================] - 2s 34ms/step - loss: 0.4097 - binary_accuracy: 0.8139 - val_loss: 0.4617 - val_binary_accuracy: 0.7632\n",
            "Epoch 32/100\n",
            "49/49 [==============================] - 2s 33ms/step - loss: 0.4397 - binary_accuracy: 0.8056 - val_loss: 0.4866 - val_binary_accuracy: 0.7414\n",
            "Epoch 33/100\n",
            "49/49 [==============================] - 2s 37ms/step - loss: 0.3872 - binary_accuracy: 0.8243 - val_loss: 0.4003 - val_binary_accuracy: 0.8287\n",
            "Epoch 34/100\n",
            "49/49 [==============================] - 2s 35ms/step - loss: 0.5666 - binary_accuracy: 0.6985 - val_loss: 0.4352 - val_binary_accuracy: 0.7944\n",
            "Epoch 35/100\n",
            "49/49 [==============================] - 2s 32ms/step - loss: 0.4038 - binary_accuracy: 0.8025 - val_loss: 0.4968 - val_binary_accuracy: 0.7477\n",
            "Epoch 36/100\n",
            "49/49 [==============================] - 2s 32ms/step - loss: 0.4060 - binary_accuracy: 0.8119 - val_loss: 0.4080 - val_binary_accuracy: 0.8162\n",
            "Epoch 37/100\n",
            "49/49 [==============================] - 2s 32ms/step - loss: 0.4063 - binary_accuracy: 0.7952 - val_loss: 0.5176 - val_binary_accuracy: 0.7134\n",
            "Epoch 38/100\n",
            "49/49 [==============================] - 2s 35ms/step - loss: 0.4001 - binary_accuracy: 0.8077 - val_loss: 0.4576 - val_binary_accuracy: 0.7601\n",
            "Epoch 39/100\n",
            "49/49 [==============================] - 2s 32ms/step - loss: 0.3729 - binary_accuracy: 0.8316 - val_loss: 0.4172 - val_binary_accuracy: 0.8100\n",
            "Epoch 40/100\n",
            "49/49 [==============================] - 2s 32ms/step - loss: 0.3659 - binary_accuracy: 0.8306 - val_loss: 0.4035 - val_binary_accuracy: 0.8287\n",
            "Epoch 41/100\n",
            "49/49 [==============================] - 2s 35ms/step - loss: 0.3540 - binary_accuracy: 0.8441 - val_loss: 0.5778 - val_binary_accuracy: 0.6854\n",
            "Epoch 42/100\n",
            "49/49 [==============================] - 2s 35ms/step - loss: 0.3587 - binary_accuracy: 0.8482 - val_loss: 0.4370 - val_binary_accuracy: 0.7726\n",
            "Epoch 43/100\n",
            "49/49 [==============================] - 2s 32ms/step - loss: 0.3458 - binary_accuracy: 0.8514 - val_loss: 0.6597 - val_binary_accuracy: 0.5607\n",
            "Epoch 44/100\n",
            "49/49 [==============================] - 2s 32ms/step - loss: 0.4158 - binary_accuracy: 0.8056 - val_loss: 0.7091 - val_binary_accuracy: 0.5576\n",
            "Epoch 45/100\n",
            "49/49 [==============================] - 2s 33ms/step - loss: 0.3859 - binary_accuracy: 0.8212 - val_loss: 0.4383 - val_binary_accuracy: 0.7975\n",
            "Epoch 46/100\n",
            "49/49 [==============================] - 2s 32ms/step - loss: 0.3884 - binary_accuracy: 0.8243 - val_loss: 0.3544 - val_binary_accuracy: 0.8629\n",
            "Epoch 47/100\n",
            "49/49 [==============================] - 2s 32ms/step - loss: 0.3703 - binary_accuracy: 0.8399 - val_loss: 0.5145 - val_binary_accuracy: 0.7259\n",
            "Epoch 48/100\n",
            "49/49 [==============================] - 2s 32ms/step - loss: 0.3768 - binary_accuracy: 0.8306 - val_loss: 0.3631 - val_binary_accuracy: 0.8411\n",
            "Epoch 49/100\n",
            "49/49 [==============================] - 2s 32ms/step - loss: 0.3929 - binary_accuracy: 0.8191 - val_loss: 0.4028 - val_binary_accuracy: 0.8100\n",
            "Epoch 50/100\n",
            "49/49 [==============================] - 2s 32ms/step - loss: 0.3392 - binary_accuracy: 0.8462 - val_loss: 0.5210 - val_binary_accuracy: 0.7290\n",
            "Epoch 51/100\n",
            "49/49 [==============================] - 2s 32ms/step - loss: 0.3579 - binary_accuracy: 0.8368 - val_loss: 0.3417 - val_binary_accuracy: 0.8505\n",
            "Epoch 52/100\n",
            "49/49 [==============================] - 2s 33ms/step - loss: 0.3548 - binary_accuracy: 0.8430 - val_loss: 0.3585 - val_binary_accuracy: 0.8287\n",
            "Epoch 53/100\n",
            "49/49 [==============================] - 2s 31ms/step - loss: 0.3891 - binary_accuracy: 0.8077 - val_loss: 0.3693 - val_binary_accuracy: 0.8442\n",
            "Epoch 54/100\n",
            "49/49 [==============================] - 2s 32ms/step - loss: 0.3822 - binary_accuracy: 0.8337 - val_loss: 0.4136 - val_binary_accuracy: 0.7882\n",
            "Epoch 55/100\n",
            "49/49 [==============================] - 2s 32ms/step - loss: 0.3494 - binary_accuracy: 0.8420 - val_loss: 0.4968 - val_binary_accuracy: 0.7570\n",
            "Epoch 56/100\n",
            "49/49 [==============================] - 2s 32ms/step - loss: 0.3794 - binary_accuracy: 0.8285 - val_loss: 0.4053 - val_binary_accuracy: 0.8131\n",
            "Epoch 57/100\n",
            "49/49 [==============================] - 2s 32ms/step - loss: 0.3612 - binary_accuracy: 0.8337 - val_loss: 0.3612 - val_binary_accuracy: 0.8255\n",
            "Epoch 58/100\n",
            "49/49 [==============================] - 2s 32ms/step - loss: 0.3319 - binary_accuracy: 0.8534 - val_loss: 0.5226 - val_binary_accuracy: 0.7788\n",
            "Epoch 59/100\n",
            "49/49 [==============================] - 2s 32ms/step - loss: 0.3544 - binary_accuracy: 0.8430 - val_loss: 0.3654 - val_binary_accuracy: 0.8474\n",
            "Epoch 60/100\n",
            "49/49 [==============================] - 2s 32ms/step - loss: 0.5420 - binary_accuracy: 0.7183 - val_loss: 0.4920 - val_binary_accuracy: 0.7695\n",
            "Epoch 61/100\n",
            "49/49 [==============================] - 2s 32ms/step - loss: 0.4715 - binary_accuracy: 0.7620 - val_loss: 0.4775 - val_binary_accuracy: 0.8162\n",
            "Epoch 62/100\n",
            "49/49 [==============================] - 2s 36ms/step - loss: 0.4232 - binary_accuracy: 0.8015 - val_loss: 0.4770 - val_binary_accuracy: 0.7819\n",
            "Epoch 63/100\n",
            "49/49 [==============================] - 2s 36ms/step - loss: 0.4189 - binary_accuracy: 0.8046 - val_loss: 0.4616 - val_binary_accuracy: 0.7975\n",
            "Epoch 64/100\n",
            "49/49 [==============================] - 2s 32ms/step - loss: 0.4018 - binary_accuracy: 0.8254 - val_loss: 0.3984 - val_binary_accuracy: 0.8318\n",
            "Epoch 65/100\n",
            "49/49 [==============================] - 2s 32ms/step - loss: 0.3840 - binary_accuracy: 0.8264 - val_loss: 0.4195 - val_binary_accuracy: 0.8037\n",
            "Epoch 66/100\n",
            "49/49 [==============================] - 2s 32ms/step - loss: 0.3437 - binary_accuracy: 0.8482 - val_loss: 0.4237 - val_binary_accuracy: 0.8037\n",
            "Epoch 67/100\n",
            "49/49 [==============================] - 2s 33ms/step - loss: 0.3541 - binary_accuracy: 0.8462 - val_loss: 0.3811 - val_binary_accuracy: 0.8224\n",
            "Epoch 68/100\n",
            "49/49 [==============================] - 2s 32ms/step - loss: 0.3332 - binary_accuracy: 0.8430 - val_loss: 0.3820 - val_binary_accuracy: 0.8474\n",
            "Epoch 69/100\n",
            "49/49 [==============================] - 2s 32ms/step - loss: 0.3298 - binary_accuracy: 0.8441 - val_loss: 0.3531 - val_binary_accuracy: 0.8442\n",
            "Epoch 70/100\n",
            "49/49 [==============================] - 2s 36ms/step - loss: 0.3475 - binary_accuracy: 0.8389 - val_loss: 0.3381 - val_binary_accuracy: 0.8505\n",
            "Epoch 71/100\n",
            "49/49 [==============================] - 2s 32ms/step - loss: 0.3406 - binary_accuracy: 0.8545 - val_loss: 0.3526 - val_binary_accuracy: 0.8442\n",
            "Epoch 72/100\n",
            "49/49 [==============================] - 2s 35ms/step - loss: 0.3019 - binary_accuracy: 0.8669 - val_loss: 0.3319 - val_binary_accuracy: 0.8474\n",
            "Epoch 73/100\n",
            "49/49 [==============================] - 2s 35ms/step - loss: 0.3215 - binary_accuracy: 0.8545 - val_loss: 0.3326 - val_binary_accuracy: 0.8349\n",
            "Epoch 74/100\n",
            "49/49 [==============================] - 2s 32ms/step - loss: 0.3226 - binary_accuracy: 0.8617 - val_loss: 0.3933 - val_binary_accuracy: 0.8224\n",
            "Epoch 75/100\n",
            "49/49 [==============================] - 2s 32ms/step - loss: 0.3186 - binary_accuracy: 0.8607 - val_loss: 0.5035 - val_binary_accuracy: 0.7695\n",
            "Epoch 76/100\n",
            "49/49 [==============================] - 2s 32ms/step - loss: 0.3053 - binary_accuracy: 0.8732 - val_loss: 0.3305 - val_binary_accuracy: 0.8442\n",
            "Epoch 77/100\n",
            "49/49 [==============================] - 2s 31ms/step - loss: 0.3406 - binary_accuracy: 0.8514 - val_loss: 0.3415 - val_binary_accuracy: 0.8598\n",
            "Epoch 78/100\n",
            "49/49 [==============================] - 2s 32ms/step - loss: 0.3507 - binary_accuracy: 0.8430 - val_loss: 0.4529 - val_binary_accuracy: 0.7695\n",
            "Epoch 79/100\n",
            "49/49 [==============================] - 2s 32ms/step - loss: 0.3267 - binary_accuracy: 0.8534 - val_loss: 0.3312 - val_binary_accuracy: 0.8474\n",
            "Epoch 80/100\n",
            "49/49 [==============================] - 2s 32ms/step - loss: 0.3098 - binary_accuracy: 0.8565 - val_loss: 0.4639 - val_binary_accuracy: 0.7632\n",
            "Epoch 81/100\n",
            "49/49 [==============================] - 2s 32ms/step - loss: 0.3313 - binary_accuracy: 0.8514 - val_loss: 0.4119 - val_binary_accuracy: 0.7975\n",
            "Epoch 82/100\n",
            "49/49 [==============================] - 2s 32ms/step - loss: 0.3072 - binary_accuracy: 0.8607 - val_loss: 0.3439 - val_binary_accuracy: 0.8349\n",
            "Epoch 83/100\n",
            "49/49 [==============================] - 2s 33ms/step - loss: 0.3274 - binary_accuracy: 0.8680 - val_loss: 0.3160 - val_binary_accuracy: 0.8567\n",
            "Epoch 84/100\n",
            "49/49 [==============================] - 2s 32ms/step - loss: 0.3144 - binary_accuracy: 0.8617 - val_loss: 0.4341 - val_binary_accuracy: 0.8100\n",
            "Epoch 85/100\n",
            "49/49 [==============================] - 2s 32ms/step - loss: 0.3038 - binary_accuracy: 0.8753 - val_loss: 0.5057 - val_binary_accuracy: 0.7788\n",
            "Epoch 86/100\n",
            "49/49 [==============================] - 2s 33ms/step - loss: 0.3039 - binary_accuracy: 0.8742 - val_loss: 0.3145 - val_binary_accuracy: 0.8474\n",
            "Epoch 87/100\n",
            "49/49 [==============================] - 2s 32ms/step - loss: 0.2844 - binary_accuracy: 0.8742 - val_loss: 0.3938 - val_binary_accuracy: 0.8162\n",
            "Epoch 88/100\n",
            "49/49 [==============================] - 2s 32ms/step - loss: 0.3779 - binary_accuracy: 0.8274 - val_loss: 0.5880 - val_binary_accuracy: 0.7352\n",
            "Epoch 89/100\n",
            "49/49 [==============================] - 2s 36ms/step - loss: 0.4323 - binary_accuracy: 0.7827 - val_loss: 0.4178 - val_binary_accuracy: 0.7788\n",
            "Epoch 90/100\n",
            "49/49 [==============================] - 2s 32ms/step - loss: 0.3131 - binary_accuracy: 0.8638 - val_loss: 0.4741 - val_binary_accuracy: 0.7664\n",
            "Epoch 91/100\n",
            "49/49 [==============================] - 2s 35ms/step - loss: 0.2965 - binary_accuracy: 0.8680 - val_loss: 0.3729 - val_binary_accuracy: 0.8224\n",
            "Epoch 92/100\n",
            "49/49 [==============================] - 2s 32ms/step - loss: 0.3145 - binary_accuracy: 0.8597 - val_loss: 0.3288 - val_binary_accuracy: 0.8536\n",
            "Epoch 93/100\n",
            "49/49 [==============================] - 2s 36ms/step - loss: 0.3107 - binary_accuracy: 0.8680 - val_loss: 0.3122 - val_binary_accuracy: 0.8629\n",
            "Epoch 94/100\n",
            "49/49 [==============================] - 2s 32ms/step - loss: 0.2717 - binary_accuracy: 0.8836 - val_loss: 0.3674 - val_binary_accuracy: 0.8349\n",
            "Epoch 95/100\n",
            "49/49 [==============================] - 2s 33ms/step - loss: 0.3027 - binary_accuracy: 0.8586 - val_loss: 0.3304 - val_binary_accuracy: 0.8598\n",
            "Epoch 96/100\n",
            "49/49 [==============================] - 2s 33ms/step - loss: 0.2721 - binary_accuracy: 0.8784 - val_loss: 0.3510 - val_binary_accuracy: 0.8411\n",
            "Epoch 97/100\n",
            "49/49 [==============================] - 2s 33ms/step - loss: 0.2975 - binary_accuracy: 0.8753 - val_loss: 0.3091 - val_binary_accuracy: 0.8505\n",
            "Epoch 98/100\n",
            "49/49 [==============================] - 2s 32ms/step - loss: 0.2868 - binary_accuracy: 0.8763 - val_loss: 0.3397 - val_binary_accuracy: 0.8567\n",
            "Epoch 99/100\n",
            "49/49 [==============================] - 2s 33ms/step - loss: 0.2873 - binary_accuracy: 0.8680 - val_loss: 0.3179 - val_binary_accuracy: 0.8536\n",
            "Epoch 100/100\n",
            "49/49 [==============================] - 2s 32ms/step - loss: 0.3927 - binary_accuracy: 0.8170 - val_loss: 0.3436 - val_binary_accuracy: 0.8505\n"
          ]
        }
      ]
    },
    {
      "cell_type": "code",
      "metadata": {
        "colab": {
          "base_uri": "https://localhost:8080/",
          "height": 550
        },
        "id": "T4D2HU9vopCl",
        "outputId": "2ead32e0-d9da-4226-da4e-105aa02bd7d8"
      },
      "source": [
        "history_df = pd.DataFrame(history.history)\n",
        "history_df.loc[0:, ['loss', 'val_loss']].plot()\n",
        "print((\"Minimum Validation Loss: {:0.4f}\").format(history_df['val_loss'].min()))\n",
        "history_df.loc[:, ['binary_accuracy', 'val_binary_accuracy']].plot();\n",
        "print((\"Maximum Validation Accuracy: {:0.4f}\").format(history_df['val_binary_accuracy'].max()))"
      ],
      "execution_count": 39,
      "outputs": [
        {
          "output_type": "stream",
          "name": "stdout",
          "text": [
            "Minimum Validation Loss: 0.3091\n",
            "Maximum Validation Accuracy: 0.8629\n"
          ]
        },
        {
          "output_type": "display_data",
          "data": {
            "image/png": "[encoded data removed]",
            "text/plain": [
              "<Figure size 432x288 with 1 Axes>"
            ]
          },
          "metadata": {
            "needs_background": "light"
          }
        },
        {
          "output_type": "display_data",
          "data": {
            "image/png": "[encoded data removed]",
            "text/plain": [
              "<Figure size 432x288 with 1 Axes>"
            ]
          },
          "metadata": {
            "needs_background": "light"
          }
        }
      ]
    }
  ]
}