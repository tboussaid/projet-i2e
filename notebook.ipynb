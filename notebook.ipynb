{
    "cells": 
    [
        {
        "cell_type": "code",
        "execution_count": 1,
        "source": 
            [
                "# First file for accessing the training dataset\r\n",
                "\r\n",
                "# Import useful labraries\r\n",
                "import pandas as pd\r\n",
                "import json\r\n",
                "\r\n",
                "# Import Google Drive\r\n",
                "from google.colab import drive\r\n",
                "drive.mount('/content/drive')\r\n",
                "\r\n",
                "# returns JSON object as a dictionary\r\n",
                "f = open('/content/drive/MyDrive/Iceberg/train.json',) # The train.json file needs to be in an \"Iceberg\" directory\r\n",
                "\r\n",
                "# creating a dataframe\r\n",
                "df = pd.DataFrame(json.load(f))\r\n",
                "\r\n",
                "# visualising the first rows\r\n",
                "print(df.head())"
            ]
        }
    ]
}