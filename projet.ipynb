{
  "nbformat": 4,
  "nbformat_minor": 0,
  "metadata": {
    "colab": {
      "name": "Copie de Iceberg_01.ipynb",
      "provenance": [],
      "collapsed_sections": []
    },
    "kernelspec": {
      "name": "python3",
      "display_name": "Python 3"
    },
    "language_info": {
      "name": "python"
    }
  },
  "cells": [
    {
      "cell_type": "markdown",
      "metadata": {
        "id": "wqX-ldkCg-yJ"
      },
      "source": [
        "Lire le fichier train.json"
      ]
    },
    {
      "cell_type": "code",
      "metadata": {
        "colab": {
          "base_uri": "https://localhost:8080/",
          "height": 221
        },
        "id": "8hh_wtXcg8SU",
        "outputId": "3b9a7e4d-4c4d-4058-8f1d-2b50d80f9737"
      },
      "source": [
        "# First file for accessing the training dataset\n",
        "\n",
        "# Import useful labraries\n",
        "import pandas as pd\n",
        "import json\n",
        "import numpy as np\n",
        "import seaborn as sns\n",
        "import plotly.express as px\n",
        "import matplotlib.pyplot as plt\n",
        "import plotly.express as px\n",
        "from sklearn.decomposition import PCA\n",
        "from sklearn.preprocessing import scale, normalize, StandardScaler\n",
        "\n",
        "# Import Google Drive\n",
        "from google.colab import drive\n",
        "drive.mount('/content/drive')\n",
        "\n",
        "# returns JSON object as a dictionary\n",
        "f = open('/content/drive/MyDrive/Iceberg/train.json',) # The train.json file needs to be in an \"Iceberg\" directory\n",
        "\n",
        "# creating a dataframe\n",
        "df = pd.DataFrame(json.load(f))\n",
        "\n",
        "# visualising the first rows\n",
        "df.head()"
      ],
      "execution_count": null,
      "outputs": [
        {
          "output_type": "stream",
          "name": "stdout",
          "text": [
            "Drive already mounted at /content/drive; to attempt to forcibly remount, call drive.mount(\"/content/drive\", force_remount=True).\n"
          ]
        },
        {
          "output_type": "execute_result",
          "data": {
            "text/html": [
              "<div>\n",
              "<style scoped>\n",
              "    .dataframe tbody tr th:only-of-type {\n",
              "        vertical-align: middle;\n",
              "    }\n",
              "\n",
              "    .dataframe tbody tr th {\n",
              "        vertical-align: top;\n",
              "    }\n",
              "\n",
              "    .dataframe thead th {\n",
              "        text-align: right;\n",
              "    }\n",
              "</style>\n",
              "<table border=\"1\" class=\"dataframe\">\n",
              "  <thead>\n",
              "    <tr style=\"text-align: right;\">\n",
              "      <th></th>\n",
              "      <th>id</th>\n",
              "      <th>band_1</th>\n",
              "      <th>band_2</th>\n",
              "      <th>inc_angle</th>\n",
              "      <th>is_iceberg</th>\n",
              "    </tr>\n",
              "  </thead>\n",
              "  <tbody>\n",
              "    <tr>\n",
              "      <th>0</th>\n",
              "      <td>dfd5f913</td>\n",
              "      <td>[-27.878361, -27.15416, -28.668615, -29.537971...</td>\n",
              "      <td>[-27.154118, -29.537888, -31.0306, -32.190483,...</td>\n",
              "      <td>43.9239</td>\n",
              "      <td>0</td>\n",
              "    </tr>\n",
              "    <tr>\n",
              "      <th>1</th>\n",
              "      <td>e25388fd</td>\n",
              "      <td>[-12.242375, -14.920305, -14.920363, -12.66633...</td>\n",
              "      <td>[-31.506321, -27.984554, -26.645678, -23.76760...</td>\n",
              "      <td>38.1562</td>\n",
              "      <td>0</td>\n",
              "    </tr>\n",
              "    <tr>\n",
              "      <th>2</th>\n",
              "      <td>58b2aaa0</td>\n",
              "      <td>[-24.603676, -24.603714, -24.871029, -23.15277...</td>\n",
              "      <td>[-24.870956, -24.092632, -20.653963, -19.41104...</td>\n",
              "      <td>45.2859</td>\n",
              "      <td>1</td>\n",
              "    </tr>\n",
              "    <tr>\n",
              "      <th>3</th>\n",
              "      <td>4cfc3a18</td>\n",
              "      <td>[-22.454607, -23.082819, -23.998013, -23.99805...</td>\n",
              "      <td>[-27.889421, -27.519794, -27.165262, -29.10350...</td>\n",
              "      <td>43.8306</td>\n",
              "      <td>0</td>\n",
              "    </tr>\n",
              "    <tr>\n",
              "      <th>4</th>\n",
              "      <td>271f93f4</td>\n",
              "      <td>[-26.006956, -23.164886, -23.164886, -26.89116...</td>\n",
              "      <td>[-27.206915, -30.259186, -30.259186, -23.16495...</td>\n",
              "      <td>35.6256</td>\n",
              "      <td>0</td>\n",
              "    </tr>\n",
              "  </tbody>\n",
              "</table>\n",
              "</div>"
            ],
            "text/plain": [
              "         id  ... is_iceberg\n",
              "0  dfd5f913  ...          0\n",
              "1  e25388fd  ...          0\n",
              "2  58b2aaa0  ...          1\n",
              "3  4cfc3a18  ...          0\n",
              "4  271f93f4  ...          0\n",
              "\n",
              "[5 rows x 5 columns]"
            ]
          },
          "metadata": {},
          "execution_count": 9
        }
      ]
    },
    {
      "cell_type": "code",
      "metadata": {
        "id": "TlnTZU5MRniK",
        "colab": {
          "base_uri": "https://localhost:8080/"
        },
        "outputId": "82134e73-48e9-4a9a-f79a-8e45c485d346"
      },
      "source": [
        "# Visualising info\n",
        "print(df.info())"
      ],
      "execution_count": null,
      "outputs": [
        {
          "output_type": "stream",
          "name": "stdout",
          "text": [
            "<class 'pandas.core.frame.DataFrame'>\n",
            "RangeIndex: 1604 entries, 0 to 1603\n",
            "Data columns (total 5 columns):\n",
            " #   Column      Non-Null Count  Dtype \n",
            "---  ------      --------------  ----- \n",
            " 0   id          1604 non-null   object\n",
            " 1   band_1      1604 non-null   object\n",
            " 2   band_2      1604 non-null   object\n",
            " 3   inc_angle   1604 non-null   object\n",
            " 4   is_iceberg  1604 non-null   int64 \n",
            "dtypes: int64(1), object(4)\n",
            "memory usage: 62.8+ KB\n",
            "None\n"
          ]
        }
      ]
    },
    {
      "cell_type": "code",
      "metadata": {
        "id": "_gsnoJ2bSvnK",
        "colab": {
          "base_uri": "https://localhost:8080/"
        },
        "outputId": "137692a2-6479-4ff6-e83e-57deb1f3edaf"
      },
      "source": [
        "# Changing inc_angle from object to float64\n",
        "df.replace('na', np.NaN, inplace = True) # Replacing the 'na' text in inc_angle by NaN\n",
        "df['inc_angle'].astype('float', copy = False) # Casting inc_angle to float works with the NaN\n",
        "df[df.inc_angle.isna()] # 133 NaN\n",
        "print(df.info()) # inc_angle is now float64"
      ],
      "execution_count": null,
      "outputs": [
        {
          "output_type": "stream",
          "name": "stdout",
          "text": [
            "<class 'pandas.core.frame.DataFrame'>\n",
            "RangeIndex: 1604 entries, 0 to 1603\n",
            "Data columns (total 5 columns):\n",
            " #   Column      Non-Null Count  Dtype  \n",
            "---  ------      --------------  -----  \n",
            " 0   id          1604 non-null   object \n",
            " 1   band_1      1604 non-null   object \n",
            " 2   band_2      1604 non-null   object \n",
            " 3   inc_angle   1471 non-null   float64\n",
            " 4   is_iceberg  1604 non-null   int64  \n",
            "dtypes: float64(1), int64(1), object(3)\n",
            "memory usage: 62.8+ KB\n",
            "None\n"
          ]
        }
      ]
    }
  ]
}